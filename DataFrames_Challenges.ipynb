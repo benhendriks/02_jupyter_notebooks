{
 "cells": [
  {
   "cell_type": "markdown",
   "metadata": {
    "id": "cR6dXZDVCpuB",
    "lang": "en"
   },
   "source": [
    "## EDA Tiller System"
   ]
  },
  {
   "cell_type": "markdown",
   "metadata": {
    "id": "qL-uyLJBCpuE",
    "lang": "en"
   },
   "source": [
    "### Loading file"
   ]
  },
  {
   "cell_type": "markdown",
   "metadata": {
    "id": "n3mYnhZXCpuE",
    "lang": "en"
   },
   "source": [
    "Download the lab data by following this [link](https://drive.google.com/file/d/1X5uXVFrl7SuMUKe7CJaiCmGEOhokorh2/view?usp=sharing)"
   ]
  },
  {
   "cell_type": "markdown",
   "metadata": {
    "id": "ECAIsNMMCpuE",
    "lang": "en"
   },
   "source": [
    "a) Load the Tiller_order_data.csv file into a DataFrame named df"
   ]
  },
  {
   "cell_type": "code",
   "execution_count": 5,
   "metadata": {
    "ExecuteTime": {
     "end_time": "2021-12-05T16:43:55.660324Z",
     "start_time": "2021-12-05T16:43:55.298778Z"
    },
    "id": "ZaHu4Fpaq-w7"
   },
   "outputs": [
    {
     "name": "stderr",
     "output_type": "stream",
     "text": [
      "C:\\Users\\Hendriks\\AppData\\Local\\Temp\\ipykernel_10352\\56990308.py:2: DtypeWarning: Columns (12) have mixed types. Specify dtype option on import or set low_memory=False.\n",
      "  df = pd.read_csv(\"Tiller_order_data.csv\")\n"
     ]
    }
   ],
   "source": [
    "import pandas as pd\n",
    "df = pd.read_csv(\"Tiller_order_data.csv\")"
   ]
  },
  {
   "cell_type": "markdown",
   "metadata": {
    "id": "D6PFA0P8CpuF",
    "lang": "en"
   },
   "source": [
    "### Data Discovery"
   ]
  },
  {
   "cell_type": "markdown",
   "metadata": {
    "id": "vEyjia4gCpuG",
    "lang": "en"
   },
   "source": [
    "b) Display the first 5 rows of this dataframe"
   ]
  },
  {
   "cell_type": "code",
   "execution_count": 6,
   "metadata": {
    "ExecuteTime": {
     "end_time": "2021-12-05T16:43:55.679127Z",
     "start_time": "2021-12-05T16:43:55.662096Z"
    },
    "id": "wbhmoMRBq-w9"
   },
   "outputs": [
    {
     "data": {
      "text/html": [
       "<div>\n",
       "<style scoped>\n",
       "    .dataframe tbody tr th:only-of-type {\n",
       "        vertical-align: middle;\n",
       "    }\n",
       "\n",
       "    .dataframe tbody tr th {\n",
       "        vertical-align: top;\n",
       "    }\n",
       "\n",
       "    .dataframe thead th {\n",
       "        text-align: right;\n",
       "    }\n",
       "</style>\n",
       "<table border=\"1\" class=\"dataframe\">\n",
       "  <thead>\n",
       "    <tr style=\"text-align: right;\">\n",
       "      <th></th>\n",
       "      <th>id_order</th>\n",
       "      <th>id_store</th>\n",
       "      <th>id_table</th>\n",
       "      <th>id_waiter</th>\n",
       "      <th>id_customer</th>\n",
       "      <th>id_external</th>\n",
       "      <th>id_device</th>\n",
       "      <th>date_opened</th>\n",
       "      <th>date_closed</th>\n",
       "      <th>dim_name</th>\n",
       "      <th>dim_status</th>\n",
       "      <th>dim_type</th>\n",
       "      <th>dim_comment</th>\n",
       "      <th>dim_source</th>\n",
       "      <th>m_nb_customer</th>\n",
       "      <th>m_cached_payed</th>\n",
       "      <th>m_cached_price</th>\n",
       "    </tr>\n",
       "  </thead>\n",
       "  <tbody>\n",
       "    <tr>\n",
       "      <th>0</th>\n",
       "      <td>55538867</td>\n",
       "      <td>8052</td>\n",
       "      <td>NaN</td>\n",
       "      <td>NaN</td>\n",
       "      <td>NaN</td>\n",
       "      <td>0425716B-EFF4-41CA-AEA1-839104F36833</td>\n",
       "      <td>15327.0</td>\n",
       "      <td>2019-01-12 13:02:17 UTC</td>\n",
       "      <td>2019-01-12 19:58:38 UTC</td>\n",
       "      <td>vincent</td>\n",
       "      <td>CLOSED</td>\n",
       "      <td>1</td>\n",
       "      <td>NaN</td>\n",
       "      <td>Tiller iPAD</td>\n",
       "      <td>1</td>\n",
       "      <td>45.5</td>\n",
       "      <td>45.5</td>\n",
       "    </tr>\n",
       "    <tr>\n",
       "      <th>1</th>\n",
       "      <td>56035309</td>\n",
       "      <td>8052</td>\n",
       "      <td>NaN</td>\n",
       "      <td>NaN</td>\n",
       "      <td>NaN</td>\n",
       "      <td>75E41FE2-64FF-41D3-954C-A7DE4AA887EF</td>\n",
       "      <td>15327.0</td>\n",
       "      <td>2019-01-16 19:39:09 UTC</td>\n",
       "      <td>2019-01-16 22:10:50 UTC</td>\n",
       "      <td>frere et soeur avec pierre</td>\n",
       "      <td>CLOSED</td>\n",
       "      <td>1</td>\n",
       "      <td>NaN</td>\n",
       "      <td>Tiller iPAD</td>\n",
       "      <td>2</td>\n",
       "      <td>49.8</td>\n",
       "      <td>49.8</td>\n",
       "    </tr>\n",
       "    <tr>\n",
       "      <th>2</th>\n",
       "      <td>55550051</td>\n",
       "      <td>8052</td>\n",
       "      <td>NaN</td>\n",
       "      <td>NaN</td>\n",
       "      <td>NaN</td>\n",
       "      <td>F6051A05-C9AC-4033-BF72-BB5149B8F439</td>\n",
       "      <td>15327.0</td>\n",
       "      <td>2019-01-12 14:18:46 UTC</td>\n",
       "      <td>2019-01-12 19:50:32 UTC</td>\n",
       "      <td>rachel</td>\n",
       "      <td>CLOSED</td>\n",
       "      <td>1</td>\n",
       "      <td>NaN</td>\n",
       "      <td>Tiller iPAD</td>\n",
       "      <td>1</td>\n",
       "      <td>27.4</td>\n",
       "      <td>27.4</td>\n",
       "    </tr>\n",
       "    <tr>\n",
       "      <th>3</th>\n",
       "      <td>57000119</td>\n",
       "      <td>8052</td>\n",
       "      <td>NaN</td>\n",
       "      <td>16199.0</td>\n",
       "      <td>NaN</td>\n",
       "      <td>B8BEEC66-1C10-48A0-B4D5-035CB5EEFE62</td>\n",
       "      <td>15327.0</td>\n",
       "      <td>2019-01-24 17:49:12 UTC</td>\n",
       "      <td>2019-01-24 21:58:59 UTC</td>\n",
       "      <td>Groupe PEL</td>\n",
       "      <td>CLOSED</td>\n",
       "      <td>1</td>\n",
       "      <td>NaN</td>\n",
       "      <td>tiller-order</td>\n",
       "      <td>3</td>\n",
       "      <td>60.0</td>\n",
       "      <td>60.0</td>\n",
       "    </tr>\n",
       "    <tr>\n",
       "      <th>4</th>\n",
       "      <td>55558817</td>\n",
       "      <td>8052</td>\n",
       "      <td>NaN</td>\n",
       "      <td>NaN</td>\n",
       "      <td>NaN</td>\n",
       "      <td>17F0533C-2FF1-4FC5-A50D-12704C7B7A4B</td>\n",
       "      <td>15327.0</td>\n",
       "      <td>2019-01-12 15:25:06 UTC</td>\n",
       "      <td>2019-01-12 19:21:03 UTC</td>\n",
       "      <td>remi et date</td>\n",
       "      <td>CLOSED</td>\n",
       "      <td>1</td>\n",
       "      <td>NaN</td>\n",
       "      <td>Tiller iPAD</td>\n",
       "      <td>2</td>\n",
       "      <td>39.9</td>\n",
       "      <td>39.9</td>\n",
       "    </tr>\n",
       "  </tbody>\n",
       "</table>\n",
       "</div>"
      ],
      "text/plain": [
       "   id_order  id_store  id_table  id_waiter  id_customer  \\\n",
       "0  55538867      8052       NaN        NaN          NaN   \n",
       "1  56035309      8052       NaN        NaN          NaN   \n",
       "2  55550051      8052       NaN        NaN          NaN   \n",
       "3  57000119      8052       NaN    16199.0          NaN   \n",
       "4  55558817      8052       NaN        NaN          NaN   \n",
       "\n",
       "                            id_external  id_device              date_opened  \\\n",
       "0  0425716B-EFF4-41CA-AEA1-839104F36833    15327.0  2019-01-12 13:02:17 UTC   \n",
       "1  75E41FE2-64FF-41D3-954C-A7DE4AA887EF    15327.0  2019-01-16 19:39:09 UTC   \n",
       "2  F6051A05-C9AC-4033-BF72-BB5149B8F439    15327.0  2019-01-12 14:18:46 UTC   \n",
       "3  B8BEEC66-1C10-48A0-B4D5-035CB5EEFE62    15327.0  2019-01-24 17:49:12 UTC   \n",
       "4  17F0533C-2FF1-4FC5-A50D-12704C7B7A4B    15327.0  2019-01-12 15:25:06 UTC   \n",
       "\n",
       "               date_closed                    dim_name dim_status  dim_type  \\\n",
       "0  2019-01-12 19:58:38 UTC                     vincent     CLOSED         1   \n",
       "1  2019-01-16 22:10:50 UTC  frere et soeur avec pierre     CLOSED         1   \n",
       "2  2019-01-12 19:50:32 UTC                      rachel     CLOSED         1   \n",
       "3  2019-01-24 21:58:59 UTC                  Groupe PEL     CLOSED         1   \n",
       "4  2019-01-12 19:21:03 UTC                remi et date     CLOSED         1   \n",
       "\n",
       "  dim_comment    dim_source  m_nb_customer  m_cached_payed  m_cached_price  \n",
       "0         NaN   Tiller iPAD              1            45.5            45.5  \n",
       "1         NaN   Tiller iPAD              2            49.8            49.8  \n",
       "2         NaN   Tiller iPAD              1            27.4            27.4  \n",
       "3         NaN  tiller-order              3            60.0            60.0  \n",
       "4         NaN   Tiller iPAD              2            39.9            39.9  "
      ]
     },
     "execution_count": 6,
     "metadata": {},
     "output_type": "execute_result"
    }
   ],
   "source": [
    "df.head()"
   ]
  },
  {
   "cell_type": "markdown",
   "metadata": {
    "id": "fze1N_GTCpuG",
    "lang": "en"
   },
   "source": [
    "c) What does a row of this dataframe represent? What information can you find?"
   ]
  },
  {
   "cell_type": "code",
   "execution_count": 8,
   "metadata": {
    "id": "eAKcskxFTMDG"
   },
   "outputs": [
    {
     "data": {
      "text/html": [
       "<div>\n",
       "<style scoped>\n",
       "    .dataframe tbody tr th:only-of-type {\n",
       "        vertical-align: middle;\n",
       "    }\n",
       "\n",
       "    .dataframe tbody tr th {\n",
       "        vertical-align: top;\n",
       "    }\n",
       "\n",
       "    .dataframe thead th {\n",
       "        text-align: right;\n",
       "    }\n",
       "</style>\n",
       "<table border=\"1\" class=\"dataframe\">\n",
       "  <thead>\n",
       "    <tr style=\"text-align: right;\">\n",
       "      <th></th>\n",
       "      <th>id_order</th>\n",
       "      <th>id_store</th>\n",
       "      <th>id_table</th>\n",
       "      <th>id_waiter</th>\n",
       "      <th>id_customer</th>\n",
       "      <th>id_device</th>\n",
       "      <th>dim_type</th>\n",
       "      <th>m_nb_customer</th>\n",
       "      <th>m_cached_payed</th>\n",
       "      <th>m_cached_price</th>\n",
       "    </tr>\n",
       "  </thead>\n",
       "  <tbody>\n",
       "    <tr>\n",
       "      <th>count</th>\n",
       "      <td>1.173040e+05</td>\n",
       "      <td>117304.000000</td>\n",
       "      <td>21917.000000</td>\n",
       "      <td>57377.000000</td>\n",
       "      <td>1.867000e+03</td>\n",
       "      <td>108906.000000</td>\n",
       "      <td>117304.000000</td>\n",
       "      <td>117304.000000</td>\n",
       "      <td>117304.000000</td>\n",
       "      <td>117304.000000</td>\n",
       "    </tr>\n",
       "    <tr>\n",
       "      <th>mean</th>\n",
       "      <td>9.048923e+07</td>\n",
       "      <td>4984.865094</td>\n",
       "      <td>152108.643154</td>\n",
       "      <td>8236.912439</td>\n",
       "      <td>1.904323e+06</td>\n",
       "      <td>11238.597662</td>\n",
       "      <td>1.000051</td>\n",
       "      <td>1.379569</td>\n",
       "      <td>38.294191</td>\n",
       "      <td>38.298951</td>\n",
       "    </tr>\n",
       "    <tr>\n",
       "      <th>std</th>\n",
       "      <td>2.534697e+07</td>\n",
       "      <td>2575.888310</td>\n",
       "      <td>75645.829300</td>\n",
       "      <td>6996.091208</td>\n",
       "      <td>2.777842e+05</td>\n",
       "      <td>4577.871932</td>\n",
       "      <td>0.010114</td>\n",
       "      <td>1.154009</td>\n",
       "      <td>111.246970</td>\n",
       "      <td>111.242410</td>\n",
       "    </tr>\n",
       "    <tr>\n",
       "      <th>min</th>\n",
       "      <td>5.430422e+07</td>\n",
       "      <td>360.000000</td>\n",
       "      <td>3199.000000</td>\n",
       "      <td>472.000000</td>\n",
       "      <td>1.206843e+06</td>\n",
       "      <td>129.000000</td>\n",
       "      <td>1.000000</td>\n",
       "      <td>0.000000</td>\n",
       "      <td>0.000000</td>\n",
       "      <td>0.000000</td>\n",
       "    </tr>\n",
       "    <tr>\n",
       "      <th>25%</th>\n",
       "      <td>6.897573e+07</td>\n",
       "      <td>1796.000000</td>\n",
       "      <td>113481.000000</td>\n",
       "      <td>2418.000000</td>\n",
       "      <td>1.653653e+06</td>\n",
       "      <td>7411.000000</td>\n",
       "      <td>1.000000</td>\n",
       "      <td>1.000000</td>\n",
       "      <td>11.800000</td>\n",
       "      <td>11.800000</td>\n",
       "    </tr>\n",
       "    <tr>\n",
       "      <th>50%</th>\n",
       "      <td>8.522710e+07</td>\n",
       "      <td>4542.000000</td>\n",
       "      <td>166328.000000</td>\n",
       "      <td>2418.000000</td>\n",
       "      <td>1.843156e+06</td>\n",
       "      <td>10820.000000</td>\n",
       "      <td>1.000000</td>\n",
       "      <td>1.000000</td>\n",
       "      <td>14.100000</td>\n",
       "      <td>14.100000</td>\n",
       "    </tr>\n",
       "    <tr>\n",
       "      <th>75%</th>\n",
       "      <td>1.091576e+08</td>\n",
       "      <td>7965.000000</td>\n",
       "      <td>198340.000000</td>\n",
       "      <td>16793.000000</td>\n",
       "      <td>2.126142e+06</td>\n",
       "      <td>15733.000000</td>\n",
       "      <td>1.000000</td>\n",
       "      <td>1.000000</td>\n",
       "      <td>30.000000</td>\n",
       "      <td>30.000000</td>\n",
       "    </tr>\n",
       "    <tr>\n",
       "      <th>max</th>\n",
       "      <td>1.505256e+08</td>\n",
       "      <td>9084.000000</td>\n",
       "      <td>288083.000000</td>\n",
       "      <td>18911.000000</td>\n",
       "      <td>2.783146e+06</td>\n",
       "      <td>17755.000000</td>\n",
       "      <td>3.000000</td>\n",
       "      <td>62.000000</td>\n",
       "      <td>11512.500000</td>\n",
       "      <td>11512.500000</td>\n",
       "    </tr>\n",
       "  </tbody>\n",
       "</table>\n",
       "</div>"
      ],
      "text/plain": [
       "           id_order       id_store       id_table     id_waiter   id_customer  \\\n",
       "count  1.173040e+05  117304.000000   21917.000000  57377.000000  1.867000e+03   \n",
       "mean   9.048923e+07    4984.865094  152108.643154   8236.912439  1.904323e+06   \n",
       "std    2.534697e+07    2575.888310   75645.829300   6996.091208  2.777842e+05   \n",
       "min    5.430422e+07     360.000000    3199.000000    472.000000  1.206843e+06   \n",
       "25%    6.897573e+07    1796.000000  113481.000000   2418.000000  1.653653e+06   \n",
       "50%    8.522710e+07    4542.000000  166328.000000   2418.000000  1.843156e+06   \n",
       "75%    1.091576e+08    7965.000000  198340.000000  16793.000000  2.126142e+06   \n",
       "max    1.505256e+08    9084.000000  288083.000000  18911.000000  2.783146e+06   \n",
       "\n",
       "           id_device       dim_type  m_nb_customer  m_cached_payed  \\\n",
       "count  108906.000000  117304.000000  117304.000000   117304.000000   \n",
       "mean    11238.597662       1.000051       1.379569       38.294191   \n",
       "std      4577.871932       0.010114       1.154009      111.246970   \n",
       "min       129.000000       1.000000       0.000000        0.000000   \n",
       "25%      7411.000000       1.000000       1.000000       11.800000   \n",
       "50%     10820.000000       1.000000       1.000000       14.100000   \n",
       "75%     15733.000000       1.000000       1.000000       30.000000   \n",
       "max     17755.000000       3.000000      62.000000    11512.500000   \n",
       "\n",
       "       m_cached_price  \n",
       "count   117304.000000  \n",
       "mean        38.298951  \n",
       "std        111.242410  \n",
       "min          0.000000  \n",
       "25%         11.800000  \n",
       "50%         14.100000  \n",
       "75%         30.000000  \n",
       "max      11512.500000  "
      ]
     },
     "execution_count": 8,
     "metadata": {},
     "output_type": "execute_result"
    }
   ],
   "source": [
    "df.describe()"
   ]
  },
  {
   "cell_type": "markdown",
   "metadata": {
    "id": "1DT8rs3_CpuH",
    "lang": "en"
   },
   "source": [
    "d) How many orders are there in this dataframe? How many columns?"
   ]
  },
  {
   "cell_type": "code",
   "execution_count": 9,
   "metadata": {
    "scrolled": true
   },
   "outputs": [
    {
     "data": {
      "text/plain": [
       "(117304, 17)"
      ]
     },
     "execution_count": 9,
     "metadata": {},
     "output_type": "execute_result"
    }
   ],
   "source": [
    "df.shape"
   ]
  },
  {
   "cell_type": "code",
   "execution_count": 34,
   "metadata": {
    "scrolled": true
   },
   "outputs": [
    {
     "data": {
      "text/plain": [
       "Index(['id_order', 'id_store', 'id_table', 'id_waiter', 'id_customer',\n",
       "       'id_external', 'id_device', 'date_opened', 'date_closed', 'dim_name',\n",
       "       'dim_status', 'dim_type', 'dim_comment', 'dim_source', 'm_nb_customer',\n",
       "       'm_cached_payed', 'm_cached_price'],\n",
       "      dtype='object')"
      ]
     },
     "execution_count": 34,
     "metadata": {},
     "output_type": "execute_result"
    }
   ],
   "source": [
    " df.columns"
   ]
  },
  {
   "cell_type": "code",
   "execution_count": 35,
   "metadata": {},
   "outputs": [
    {
     "data": {
      "text/plain": [
       "['id_order',\n",
       " 'id_store',\n",
       " 'id_table',\n",
       " 'id_waiter',\n",
       " 'id_customer',\n",
       " 'id_external',\n",
       " 'id_device',\n",
       " 'date_opened',\n",
       " 'date_closed',\n",
       " 'dim_name',\n",
       " 'dim_status',\n",
       " 'dim_type',\n",
       " 'dim_comment',\n",
       " 'dim_source',\n",
       " 'm_nb_customer',\n",
       " 'm_cached_payed',\n",
       " 'm_cached_price']"
      ]
     },
     "execution_count": 35,
     "metadata": {},
     "output_type": "execute_result"
    }
   ],
   "source": [
    "list(df)"
   ]
  },
  {
   "cell_type": "markdown",
   "metadata": {
    "id": "I6Q-lBTMpJba"
   },
   "source": []
  },
  {
   "cell_type": "markdown",
   "metadata": {
    "id": "xk3s55atwdXV"
   },
   "source": [
    "#### Column selection"
   ]
  },
  {
   "cell_type": "markdown",
   "metadata": {
    "id": "BTeAHs3dCpuH",
    "lang": "en"
   },
   "source": [
    "e) Select only the id_order, id_store, date_opened and date_closed columns of this DataFrame and save the result in a variable df_sub"
   ]
  },
  {
   "cell_type": "code",
   "execution_count": 10,
   "metadata": {
    "id": "HJmlPYcnCgDY",
    "lang": "fr"
   },
   "outputs": [
    {
     "data": {
      "text/html": [
       "<div>\n",
       "<style scoped>\n",
       "    .dataframe tbody tr th:only-of-type {\n",
       "        vertical-align: middle;\n",
       "    }\n",
       "\n",
       "    .dataframe tbody tr th {\n",
       "        vertical-align: top;\n",
       "    }\n",
       "\n",
       "    .dataframe thead th {\n",
       "        text-align: right;\n",
       "    }\n",
       "</style>\n",
       "<table border=\"1\" class=\"dataframe\">\n",
       "  <thead>\n",
       "    <tr style=\"text-align: right;\">\n",
       "      <th></th>\n",
       "      <th>id_order</th>\n",
       "      <th>id_store</th>\n",
       "      <th>date_opened</th>\n",
       "      <th>date_closed</th>\n",
       "    </tr>\n",
       "  </thead>\n",
       "  <tbody>\n",
       "    <tr>\n",
       "      <th>0</th>\n",
       "      <td>55538867</td>\n",
       "      <td>8052</td>\n",
       "      <td>2019-01-12 13:02:17 UTC</td>\n",
       "      <td>2019-01-12 19:58:38 UTC</td>\n",
       "    </tr>\n",
       "    <tr>\n",
       "      <th>1</th>\n",
       "      <td>56035309</td>\n",
       "      <td>8052</td>\n",
       "      <td>2019-01-16 19:39:09 UTC</td>\n",
       "      <td>2019-01-16 22:10:50 UTC</td>\n",
       "    </tr>\n",
       "    <tr>\n",
       "      <th>2</th>\n",
       "      <td>55550051</td>\n",
       "      <td>8052</td>\n",
       "      <td>2019-01-12 14:18:46 UTC</td>\n",
       "      <td>2019-01-12 19:50:32 UTC</td>\n",
       "    </tr>\n",
       "    <tr>\n",
       "      <th>3</th>\n",
       "      <td>57000119</td>\n",
       "      <td>8052</td>\n",
       "      <td>2019-01-24 17:49:12 UTC</td>\n",
       "      <td>2019-01-24 21:58:59 UTC</td>\n",
       "    </tr>\n",
       "    <tr>\n",
       "      <th>4</th>\n",
       "      <td>55558817</td>\n",
       "      <td>8052</td>\n",
       "      <td>2019-01-12 15:25:06 UTC</td>\n",
       "      <td>2019-01-12 19:21:03 UTC</td>\n",
       "    </tr>\n",
       "    <tr>\n",
       "      <th>...</th>\n",
       "      <td>...</td>\n",
       "      <td>...</td>\n",
       "      <td>...</td>\n",
       "      <td>...</td>\n",
       "    </tr>\n",
       "    <tr>\n",
       "      <th>117299</th>\n",
       "      <td>61630471</td>\n",
       "      <td>4542</td>\n",
       "      <td>2019-02-28 13:13:21 UTC</td>\n",
       "      <td>2019-02-28 13:38:45 UTC</td>\n",
       "    </tr>\n",
       "    <tr>\n",
       "      <th>117300</th>\n",
       "      <td>76772730</td>\n",
       "      <td>4542</td>\n",
       "      <td>2019-06-11 11:08:01 UTC</td>\n",
       "      <td>2019-06-11 11:10:26 UTC</td>\n",
       "    </tr>\n",
       "    <tr>\n",
       "      <th>117301</th>\n",
       "      <td>77799227</td>\n",
       "      <td>4542</td>\n",
       "      <td>2019-06-17 10:30:50 UTC</td>\n",
       "      <td>2019-06-17 10:32:45 UTC</td>\n",
       "    </tr>\n",
       "    <tr>\n",
       "      <th>117302</th>\n",
       "      <td>60627160</td>\n",
       "      <td>4542</td>\n",
       "      <td>2019-02-21 11:50:58 UTC</td>\n",
       "      <td>2019-02-21 11:51:56 UTC</td>\n",
       "    </tr>\n",
       "    <tr>\n",
       "      <th>117303</th>\n",
       "      <td>93223821</td>\n",
       "      <td>4542</td>\n",
       "      <td>2019-09-18 11:32:35 UTC</td>\n",
       "      <td>2019-09-18 11:39:38 UTC</td>\n",
       "    </tr>\n",
       "  </tbody>\n",
       "</table>\n",
       "<p>117304 rows × 4 columns</p>\n",
       "</div>"
      ],
      "text/plain": [
       "        id_order  id_store              date_opened              date_closed\n",
       "0       55538867      8052  2019-01-12 13:02:17 UTC  2019-01-12 19:58:38 UTC\n",
       "1       56035309      8052  2019-01-16 19:39:09 UTC  2019-01-16 22:10:50 UTC\n",
       "2       55550051      8052  2019-01-12 14:18:46 UTC  2019-01-12 19:50:32 UTC\n",
       "3       57000119      8052  2019-01-24 17:49:12 UTC  2019-01-24 21:58:59 UTC\n",
       "4       55558817      8052  2019-01-12 15:25:06 UTC  2019-01-12 19:21:03 UTC\n",
       "...          ...       ...                      ...                      ...\n",
       "117299  61630471      4542  2019-02-28 13:13:21 UTC  2019-02-28 13:38:45 UTC\n",
       "117300  76772730      4542  2019-06-11 11:08:01 UTC  2019-06-11 11:10:26 UTC\n",
       "117301  77799227      4542  2019-06-17 10:30:50 UTC  2019-06-17 10:32:45 UTC\n",
       "117302  60627160      4542  2019-02-21 11:50:58 UTC  2019-02-21 11:51:56 UTC\n",
       "117303  93223821      4542  2019-09-18 11:32:35 UTC  2019-09-18 11:39:38 UTC\n",
       "\n",
       "[117304 rows x 4 columns]"
      ]
     },
     "execution_count": 10,
     "metadata": {},
     "output_type": "execute_result"
    }
   ],
   "source": [
    "df_sub = df[[\"id_order\", \"id_store\", \"date_opened\", \"date_closed\"]]\n",
    "df_sub"
   ]
  },
  {
   "cell_type": "markdown",
   "metadata": {
    "id": "lgHxvXI6CpuH",
    "lang": "en"
   },
   "source": [
    "#### Row selection"
   ]
  },
  {
   "cell_type": "markdown",
   "metadata": {
    "id": "HSiegLw0CpuH",
    "lang": "en"
   },
   "source": [
    "f) Filter df_sub only on lines concerning id_store 4542. How many orders have there been in this restaurant?"
   ]
  },
  {
   "cell_type": "code",
   "execution_count": 59,
   "metadata": {
    "id": "LRg_wbkFDjPg"
   },
   "outputs": [
    {
     "data": {
      "text/html": [
       "<div>\n",
       "<style scoped>\n",
       "    .dataframe tbody tr th:only-of-type {\n",
       "        vertical-align: middle;\n",
       "    }\n",
       "\n",
       "    .dataframe tbody tr th {\n",
       "        vertical-align: top;\n",
       "    }\n",
       "\n",
       "    .dataframe thead th {\n",
       "        text-align: right;\n",
       "    }\n",
       "</style>\n",
       "<table border=\"1\" class=\"dataframe\">\n",
       "  <thead>\n",
       "    <tr style=\"text-align: right;\">\n",
       "      <th></th>\n",
       "      <th>id_order</th>\n",
       "      <th>id_store</th>\n",
       "      <th>date_opened</th>\n",
       "      <th>date_closed</th>\n",
       "    </tr>\n",
       "  </thead>\n",
       "  <tbody>\n",
       "    <tr>\n",
       "      <th>99663</th>\n",
       "      <td>82814018</td>\n",
       "      <td>4542</td>\n",
       "      <td>2019-07-16 10:57:10 UTC</td>\n",
       "      <td>2019-07-16 10:58:58 UTC</td>\n",
       "    </tr>\n",
       "    <tr>\n",
       "      <th>99664</th>\n",
       "      <td>57084271</td>\n",
       "      <td>4542</td>\n",
       "      <td>2019-01-25 11:49:43 UTC</td>\n",
       "      <td>2019-01-25 11:53:03 UTC</td>\n",
       "    </tr>\n",
       "    <tr>\n",
       "      <th>99665</th>\n",
       "      <td>132161083</td>\n",
       "      <td>4542</td>\n",
       "      <td>2020-07-10 11:35:51 UTC</td>\n",
       "      <td>2020-07-10 11:35:53 UTC</td>\n",
       "    </tr>\n",
       "    <tr>\n",
       "      <th>99666</th>\n",
       "      <td>109101613</td>\n",
       "      <td>4542</td>\n",
       "      <td>2019-12-17 11:35:02 UTC</td>\n",
       "      <td>2019-12-17 11:35:26 UTC</td>\n",
       "    </tr>\n",
       "    <tr>\n",
       "      <th>99667</th>\n",
       "      <td>133761191</td>\n",
       "      <td>4542</td>\n",
       "      <td>2020-07-20 11:01:46 UTC</td>\n",
       "      <td>2020-07-20 11:02:28 UTC</td>\n",
       "    </tr>\n",
       "  </tbody>\n",
       "</table>\n",
       "</div>"
      ],
      "text/plain": [
       "        id_order  id_store              date_opened              date_closed\n",
       "99663   82814018      4542  2019-07-16 10:57:10 UTC  2019-07-16 10:58:58 UTC\n",
       "99664   57084271      4542  2019-01-25 11:49:43 UTC  2019-01-25 11:53:03 UTC\n",
       "99665  132161083      4542  2020-07-10 11:35:51 UTC  2020-07-10 11:35:53 UTC\n",
       "99666  109101613      4542  2019-12-17 11:35:02 UTC  2019-12-17 11:35:26 UTC\n",
       "99667  133761191      4542  2020-07-20 11:01:46 UTC  2020-07-20 11:02:28 UTC"
      ]
     },
     "execution_count": 59,
     "metadata": {},
     "output_type": "execute_result"
    }
   ],
   "source": [
    "mask = df_sub[\"id_store\"] == 4542\n",
    "filtered_df = df_sub[mask]\n",
    "filtered_df.head()"
   ]
  },
  {
   "cell_type": "code",
   "execution_count": 11,
   "metadata": {},
   "outputs": [
    {
     "data": {
      "text/html": [
       "<div>\n",
       "<style scoped>\n",
       "    .dataframe tbody tr th:only-of-type {\n",
       "        vertical-align: middle;\n",
       "    }\n",
       "\n",
       "    .dataframe tbody tr th {\n",
       "        vertical-align: top;\n",
       "    }\n",
       "\n",
       "    .dataframe thead th {\n",
       "        text-align: right;\n",
       "    }\n",
       "</style>\n",
       "<table border=\"1\" class=\"dataframe\">\n",
       "  <thead>\n",
       "    <tr style=\"text-align: right;\">\n",
       "      <th></th>\n",
       "      <th>id_order</th>\n",
       "      <th>id_store</th>\n",
       "      <th>date_opened</th>\n",
       "      <th>date_closed</th>\n",
       "    </tr>\n",
       "  </thead>\n",
       "  <tbody>\n",
       "    <tr>\n",
       "      <th>99663</th>\n",
       "      <td>82814018</td>\n",
       "      <td>4542</td>\n",
       "      <td>2019-07-16 10:57:10 UTC</td>\n",
       "      <td>2019-07-16 10:58:58 UTC</td>\n",
       "    </tr>\n",
       "    <tr>\n",
       "      <th>99664</th>\n",
       "      <td>57084271</td>\n",
       "      <td>4542</td>\n",
       "      <td>2019-01-25 11:49:43 UTC</td>\n",
       "      <td>2019-01-25 11:53:03 UTC</td>\n",
       "    </tr>\n",
       "    <tr>\n",
       "      <th>99665</th>\n",
       "      <td>132161083</td>\n",
       "      <td>4542</td>\n",
       "      <td>2020-07-10 11:35:51 UTC</td>\n",
       "      <td>2020-07-10 11:35:53 UTC</td>\n",
       "    </tr>\n",
       "    <tr>\n",
       "      <th>99666</th>\n",
       "      <td>109101613</td>\n",
       "      <td>4542</td>\n",
       "      <td>2019-12-17 11:35:02 UTC</td>\n",
       "      <td>2019-12-17 11:35:26 UTC</td>\n",
       "    </tr>\n",
       "    <tr>\n",
       "      <th>99667</th>\n",
       "      <td>133761191</td>\n",
       "      <td>4542</td>\n",
       "      <td>2020-07-20 11:01:46 UTC</td>\n",
       "      <td>2020-07-20 11:02:28 UTC</td>\n",
       "    </tr>\n",
       "    <tr>\n",
       "      <th>...</th>\n",
       "      <td>...</td>\n",
       "      <td>...</td>\n",
       "      <td>...</td>\n",
       "      <td>...</td>\n",
       "    </tr>\n",
       "    <tr>\n",
       "      <th>117299</th>\n",
       "      <td>61630471</td>\n",
       "      <td>4542</td>\n",
       "      <td>2019-02-28 13:13:21 UTC</td>\n",
       "      <td>2019-02-28 13:38:45 UTC</td>\n",
       "    </tr>\n",
       "    <tr>\n",
       "      <th>117300</th>\n",
       "      <td>76772730</td>\n",
       "      <td>4542</td>\n",
       "      <td>2019-06-11 11:08:01 UTC</td>\n",
       "      <td>2019-06-11 11:10:26 UTC</td>\n",
       "    </tr>\n",
       "    <tr>\n",
       "      <th>117301</th>\n",
       "      <td>77799227</td>\n",
       "      <td>4542</td>\n",
       "      <td>2019-06-17 10:30:50 UTC</td>\n",
       "      <td>2019-06-17 10:32:45 UTC</td>\n",
       "    </tr>\n",
       "    <tr>\n",
       "      <th>117302</th>\n",
       "      <td>60627160</td>\n",
       "      <td>4542</td>\n",
       "      <td>2019-02-21 11:50:58 UTC</td>\n",
       "      <td>2019-02-21 11:51:56 UTC</td>\n",
       "    </tr>\n",
       "    <tr>\n",
       "      <th>117303</th>\n",
       "      <td>93223821</td>\n",
       "      <td>4542</td>\n",
       "      <td>2019-09-18 11:32:35 UTC</td>\n",
       "      <td>2019-09-18 11:39:38 UTC</td>\n",
       "    </tr>\n",
       "  </tbody>\n",
       "</table>\n",
       "<p>17641 rows × 4 columns</p>\n",
       "</div>"
      ],
      "text/plain": [
       "         id_order  id_store              date_opened              date_closed\n",
       "99663    82814018      4542  2019-07-16 10:57:10 UTC  2019-07-16 10:58:58 UTC\n",
       "99664    57084271      4542  2019-01-25 11:49:43 UTC  2019-01-25 11:53:03 UTC\n",
       "99665   132161083      4542  2020-07-10 11:35:51 UTC  2020-07-10 11:35:53 UTC\n",
       "99666   109101613      4542  2019-12-17 11:35:02 UTC  2019-12-17 11:35:26 UTC\n",
       "99667   133761191      4542  2020-07-20 11:01:46 UTC  2020-07-20 11:02:28 UTC\n",
       "...           ...       ...                      ...                      ...\n",
       "117299   61630471      4542  2019-02-28 13:13:21 UTC  2019-02-28 13:38:45 UTC\n",
       "117300   76772730      4542  2019-06-11 11:08:01 UTC  2019-06-11 11:10:26 UTC\n",
       "117301   77799227      4542  2019-06-17 10:30:50 UTC  2019-06-17 10:32:45 UTC\n",
       "117302   60627160      4542  2019-02-21 11:50:58 UTC  2019-02-21 11:51:56 UTC\n",
       "117303   93223821      4542  2019-09-18 11:32:35 UTC  2019-09-18 11:39:38 UTC\n",
       "\n",
       "[17641 rows x 4 columns]"
      ]
     },
     "execution_count": 11,
     "metadata": {},
     "output_type": "execute_result"
    }
   ],
   "source": [
    "df_sub[df_sub[\"id_store\"]==4542]"
   ]
  },
  {
   "cell_type": "markdown",
   "metadata": {
    "id": "4f6K3BKjCpuI",
    "lang": "en"
   },
   "source": [
    "### Data analysis"
   ]
  },
  {
   "cell_type": "markdown",
   "metadata": {
    "id": "1rP6S-IKCpuI",
    "lang": "en"
   },
   "source": [
    "g) Going back to the initial DataFrame, what are the different possible statuses of an order? How many orders are there per status?"
   ]
  },
  {
   "cell_type": "code",
   "execution_count": 12,
   "metadata": {},
   "outputs": [
    {
     "name": "stdout",
     "output_type": "stream",
     "text": [
      "['CLOSED' 'IN_PROGRESS']\n",
      "    dim_status    size\n",
      "0       CLOSED  116939\n",
      "1  IN_PROGRESS     365\n"
     ]
    }
   ],
   "source": [
    "print(df[\"dim_status\"].unique())\n",
    "\n",
    "print(df.groupby([\"dim_status\"], as_index=False).size())"
   ]
  },
  {
   "cell_type": "code",
   "execution_count": 61,
   "metadata": {
    "id": "oaUCabqUuyVS",
    "scrolled": false
   },
   "outputs": [
    {
     "data": {
      "text/plain": [
       "dim_status\n",
       "CLOSED         116939\n",
       "IN_PROGRESS       365\n",
       "Name: count, dtype: int64"
      ]
     },
     "execution_count": 61,
     "metadata": {},
     "output_type": "execute_result"
    }
   ],
   "source": [
    "df[\"dim_status\"].value_counts()"
   ]
  },
  {
   "cell_type": "markdown",
   "metadata": {
    "id": "OHLuWvHvCpuI",
    "lang": "en"
   },
   "source": [
    "h) What is the proportion of orders whose status is CLOSE?"
   ]
  },
  {
   "cell_type": "code",
   "execution_count": 13,
   "metadata": {},
   "outputs": [
    {
     "name": "stdout",
     "output_type": "stream",
     "text": [
      "0.9968884266521175\n"
     ]
    }
   ],
   "source": [
    "mask_order_close = df[\"dim_status\"] == \"CLOSED\"\n",
    "\n",
    "print(df[mask_order_close].shape[0] / df.shape[0])"
   ]
  },
  {
   "cell_type": "code",
   "execution_count": 65,
   "metadata": {
    "id": "nKRY5m8kuEFS"
   },
   "outputs": [
    {
     "data": {
      "text/plain": [
       "dim_status\n",
       "CLOSED         0.996888\n",
       "IN_PROGRESS    0.003112\n",
       "Name: proportion, dtype: float64"
      ]
     },
     "execution_count": 65,
     "metadata": {},
     "output_type": "execute_result"
    }
   ],
   "source": [
    "df[\"dim_status\"].value_counts(normalize=True)"
   ]
  },
  {
   "cell_type": "code",
   "execution_count": 66,
   "metadata": {},
   "outputs": [
    {
     "data": {
      "text/plain": [
       "dim_status\n",
       "CLOSED         99.7%\n",
       "IN_PROGRESS     0.3%\n",
       "Name: proportion, dtype: object"
      ]
     },
     "execution_count": 66,
     "metadata": {},
     "output_type": "execute_result"
    }
   ],
   "source": [
    "df[\"dim_status\"].value_counts(normalize=True).mul(100).round(1).astype(str) + '%'"
   ]
  },
  {
   "cell_type": "markdown",
   "metadata": {
    "id": "ovaHfpC1CpuI",
    "lang": "en"
   },
   "source": [
    "i) How many restaurants are there in this data? What are their IDs?"
   ]
  },
  {
   "cell_type": "code",
   "execution_count": 73,
   "metadata": {
    "id": "L_An80n8s_T9"
   },
   "outputs": [
    {
     "data": {
      "text/plain": [
       "10"
      ]
     },
     "execution_count": 73,
     "metadata": {},
     "output_type": "execute_result"
    }
   ],
   "source": [
    "df['id_store'].nunique()"
   ]
  },
  {
   "cell_type": "code",
   "execution_count": 14,
   "metadata": {},
   "outputs": [
    {
     "name": "stdout",
     "output_type": "stream",
     "text": [
      "[8052 8347 8283 9084 4337  360 1796 7965 6293 4542]\n",
      "10\n"
     ]
    }
   ],
   "source": [
    "stores = df[\"id_store\"].unique()\n",
    "\n",
    "print(stores)\n",
    "print(len(stores))"
   ]
  },
  {
   "cell_type": "markdown",
   "metadata": {
    "id": "P6VbO1iOCpuI",
    "lang": "en"
   },
   "source": [
    "j) Calculate the turnover per restaurant. Which restaurant has the highest turnover?"
   ]
  },
  {
   "cell_type": "code",
   "execution_count": 15,
   "metadata": {},
   "outputs": [
    {
     "data": {
      "text/plain": [
       "id_store\n",
       "7965    1138690.95\n",
       "4337     865357.89\n",
       "9084     479019.75\n",
       "360      387089.14\n",
       "8283     369822.82\n",
       "6293     359471.00\n",
       "8052     327758.85\n",
       "1796     321099.69\n",
       "4542     243728.69\n",
       "8347         23.00\n",
       "Name: m_cached_payed, dtype: float64"
      ]
     },
     "execution_count": 15,
     "metadata": {},
     "output_type": "execute_result"
    }
   ],
   "source": [
    "df.groupby([\"id_store\"])[\"m_cached_payed\"].sum().sort_values(ascending=False)"
   ]
  },
  {
   "cell_type": "markdown",
   "metadata": {
    "id": "G_3naXPwCpuI",
    "lang": "en"
   },
   "source": [
    "k) Count the number of orders per restaurant. Which restaurant had the most orders in this data? Is it the same as the one with the highest turnover?"
   ]
  },
  {
   "cell_type": "code",
   "execution_count": 16,
   "metadata": {},
   "outputs": [
    {
     "data": {
      "text/plain": [
       "id_store\n",
       "1796    27349\n",
       "4337    20003\n",
       "4542    17641\n",
       "6293    16103\n",
       "8283    10023\n",
       "7965     9091\n",
       "9084     7804\n",
       "8052     4906\n",
       "360      4383\n",
       "8347        1\n",
       "dtype: int64"
      ]
     },
     "execution_count": 16,
     "metadata": {},
     "output_type": "execute_result"
    }
   ],
   "source": [
    "df.groupby([\"id_store\"]).size().sort_values(ascending=False)"
   ]
  },
  {
   "cell_type": "markdown",
   "metadata": {
    "id": "kilu2ukeCpuJ",
    "lang": "en"
   },
   "source": [
    "l) Calculate the average price of an order for each restaurant. Do you think you face the same types of restaurants?"
   ]
  },
  {
   "cell_type": "code",
   "execution_count": 17,
   "metadata": {},
   "outputs": [
    {
     "data": {
      "text/html": [
       "<div>\n",
       "<style scoped>\n",
       "    .dataframe tbody tr th:only-of-type {\n",
       "        vertical-align: middle;\n",
       "    }\n",
       "\n",
       "    .dataframe tbody tr th {\n",
       "        vertical-align: top;\n",
       "    }\n",
       "\n",
       "    .dataframe thead th {\n",
       "        text-align: right;\n",
       "    }\n",
       "</style>\n",
       "<table border=\"1\" class=\"dataframe\">\n",
       "  <thead>\n",
       "    <tr style=\"text-align: right;\">\n",
       "      <th></th>\n",
       "      <th>id_store</th>\n",
       "      <th>size</th>\n",
       "      <th>sum</th>\n",
       "      <th>avg_order_price</th>\n",
       "    </tr>\n",
       "  </thead>\n",
       "  <tbody>\n",
       "    <tr>\n",
       "      <th>5</th>\n",
       "      <td>7965</td>\n",
       "      <td>9091</td>\n",
       "      <td>1138585.95</td>\n",
       "      <td>125.243202</td>\n",
       "    </tr>\n",
       "    <tr>\n",
       "      <th>0</th>\n",
       "      <td>360</td>\n",
       "      <td>4383</td>\n",
       "      <td>386934.14</td>\n",
       "      <td>88.280662</td>\n",
       "    </tr>\n",
       "    <tr>\n",
       "      <th>6</th>\n",
       "      <td>8052</td>\n",
       "      <td>4906</td>\n",
       "      <td>327758.85</td>\n",
       "      <td>66.807756</td>\n",
       "    </tr>\n",
       "    <tr>\n",
       "      <th>9</th>\n",
       "      <td>9084</td>\n",
       "      <td>7804</td>\n",
       "      <td>479040.75</td>\n",
       "      <td>61.384002</td>\n",
       "    </tr>\n",
       "    <tr>\n",
       "      <th>2</th>\n",
       "      <td>4337</td>\n",
       "      <td>20003</td>\n",
       "      <td>865847.30</td>\n",
       "      <td>43.285872</td>\n",
       "    </tr>\n",
       "    <tr>\n",
       "      <th>7</th>\n",
       "      <td>8283</td>\n",
       "      <td>10023</td>\n",
       "      <td>369822.82</td>\n",
       "      <td>36.897418</td>\n",
       "    </tr>\n",
       "    <tr>\n",
       "      <th>8</th>\n",
       "      <td>8347</td>\n",
       "      <td>1</td>\n",
       "      <td>23.00</td>\n",
       "      <td>23.000000</td>\n",
       "    </tr>\n",
       "    <tr>\n",
       "      <th>4</th>\n",
       "      <td>6293</td>\n",
       "      <td>16103</td>\n",
       "      <td>359718.00</td>\n",
       "      <td>22.338570</td>\n",
       "    </tr>\n",
       "    <tr>\n",
       "      <th>3</th>\n",
       "      <td>4542</td>\n",
       "      <td>17641</td>\n",
       "      <td>243789.69</td>\n",
       "      <td>13.819494</td>\n",
       "    </tr>\n",
       "    <tr>\n",
       "      <th>1</th>\n",
       "      <td>1796</td>\n",
       "      <td>27349</td>\n",
       "      <td>321099.69</td>\n",
       "      <td>11.740820</td>\n",
       "    </tr>\n",
       "  </tbody>\n",
       "</table>\n",
       "</div>"
      ],
      "text/plain": [
       "   id_store   size         sum  avg_order_price\n",
       "5      7965   9091  1138585.95       125.243202\n",
       "0       360   4383   386934.14        88.280662\n",
       "6      8052   4906   327758.85        66.807756\n",
       "9      9084   7804   479040.75        61.384002\n",
       "2      4337  20003   865847.30        43.285872\n",
       "7      8283  10023   369822.82        36.897418\n",
       "8      8347      1       23.00        23.000000\n",
       "4      6293  16103   359718.00        22.338570\n",
       "3      4542  17641   243789.69        13.819494\n",
       "1      1796  27349   321099.69        11.740820"
      ]
     },
     "execution_count": 17,
     "metadata": {},
     "output_type": "execute_result"
    }
   ],
   "source": [
    "df_ca = df.groupby([\"id_store\"])[\"m_cached_price\"].agg(['size', 'sum']).reset_index()\n",
    "df_ca[\"avg_order_price\"] = df_ca[\"sum\"] / df_ca[\"size\"]\n",
    "df_ca.sort_values(\"avg_order_price\", ascending=False)"
   ]
  },
  {
   "cell_type": "markdown",
   "metadata": {
    "id": "mlCBOMpQCpuJ",
    "lang": "en"
   },
   "source": [
    "m) The problem is that an order can be placed for several people. We rather want to know the price spent on average by a person in the restaurant.\n",
    "\n",
    "From the initial dataframe, add a column representing the price of the order per customer"
   ]
  },
  {
   "cell_type": "code",
   "execution_count": 18,
   "metadata": {
    "id": "uuafguQgLBsb"
   },
   "outputs": [
    {
     "data": {
      "text/html": [
       "<div>\n",
       "<style scoped>\n",
       "    .dataframe tbody tr th:only-of-type {\n",
       "        vertical-align: middle;\n",
       "    }\n",
       "\n",
       "    .dataframe tbody tr th {\n",
       "        vertical-align: top;\n",
       "    }\n",
       "\n",
       "    .dataframe thead th {\n",
       "        text-align: right;\n",
       "    }\n",
       "</style>\n",
       "<table border=\"1\" class=\"dataframe\">\n",
       "  <thead>\n",
       "    <tr style=\"text-align: right;\">\n",
       "      <th></th>\n",
       "      <th>id_order</th>\n",
       "      <th>id_store</th>\n",
       "      <th>id_table</th>\n",
       "      <th>id_waiter</th>\n",
       "      <th>id_customer</th>\n",
       "      <th>id_external</th>\n",
       "      <th>id_device</th>\n",
       "      <th>date_opened</th>\n",
       "      <th>date_closed</th>\n",
       "      <th>dim_name</th>\n",
       "      <th>dim_status</th>\n",
       "      <th>dim_type</th>\n",
       "      <th>dim_comment</th>\n",
       "      <th>dim_source</th>\n",
       "      <th>m_nb_customer</th>\n",
       "      <th>m_cached_payed</th>\n",
       "      <th>m_cached_price</th>\n",
       "      <th>price_per_customer</th>\n",
       "    </tr>\n",
       "  </thead>\n",
       "  <tbody>\n",
       "    <tr>\n",
       "      <th>0</th>\n",
       "      <td>55538867</td>\n",
       "      <td>8052</td>\n",
       "      <td>NaN</td>\n",
       "      <td>NaN</td>\n",
       "      <td>NaN</td>\n",
       "      <td>0425716B-EFF4-41CA-AEA1-839104F36833</td>\n",
       "      <td>15327.0</td>\n",
       "      <td>2019-01-12 13:02:17 UTC</td>\n",
       "      <td>2019-01-12 19:58:38 UTC</td>\n",
       "      <td>vincent</td>\n",
       "      <td>CLOSED</td>\n",
       "      <td>1</td>\n",
       "      <td>NaN</td>\n",
       "      <td>Tiller iPAD</td>\n",
       "      <td>1</td>\n",
       "      <td>45.5</td>\n",
       "      <td>45.5</td>\n",
       "      <td>45.50</td>\n",
       "    </tr>\n",
       "    <tr>\n",
       "      <th>1</th>\n",
       "      <td>56035309</td>\n",
       "      <td>8052</td>\n",
       "      <td>NaN</td>\n",
       "      <td>NaN</td>\n",
       "      <td>NaN</td>\n",
       "      <td>75E41FE2-64FF-41D3-954C-A7DE4AA887EF</td>\n",
       "      <td>15327.0</td>\n",
       "      <td>2019-01-16 19:39:09 UTC</td>\n",
       "      <td>2019-01-16 22:10:50 UTC</td>\n",
       "      <td>frere et soeur avec pierre</td>\n",
       "      <td>CLOSED</td>\n",
       "      <td>1</td>\n",
       "      <td>NaN</td>\n",
       "      <td>Tiller iPAD</td>\n",
       "      <td>2</td>\n",
       "      <td>49.8</td>\n",
       "      <td>49.8</td>\n",
       "      <td>24.90</td>\n",
       "    </tr>\n",
       "    <tr>\n",
       "      <th>2</th>\n",
       "      <td>55550051</td>\n",
       "      <td>8052</td>\n",
       "      <td>NaN</td>\n",
       "      <td>NaN</td>\n",
       "      <td>NaN</td>\n",
       "      <td>F6051A05-C9AC-4033-BF72-BB5149B8F439</td>\n",
       "      <td>15327.0</td>\n",
       "      <td>2019-01-12 14:18:46 UTC</td>\n",
       "      <td>2019-01-12 19:50:32 UTC</td>\n",
       "      <td>rachel</td>\n",
       "      <td>CLOSED</td>\n",
       "      <td>1</td>\n",
       "      <td>NaN</td>\n",
       "      <td>Tiller iPAD</td>\n",
       "      <td>1</td>\n",
       "      <td>27.4</td>\n",
       "      <td>27.4</td>\n",
       "      <td>27.40</td>\n",
       "    </tr>\n",
       "    <tr>\n",
       "      <th>3</th>\n",
       "      <td>57000119</td>\n",
       "      <td>8052</td>\n",
       "      <td>NaN</td>\n",
       "      <td>16199.0</td>\n",
       "      <td>NaN</td>\n",
       "      <td>B8BEEC66-1C10-48A0-B4D5-035CB5EEFE62</td>\n",
       "      <td>15327.0</td>\n",
       "      <td>2019-01-24 17:49:12 UTC</td>\n",
       "      <td>2019-01-24 21:58:59 UTC</td>\n",
       "      <td>Groupe PEL</td>\n",
       "      <td>CLOSED</td>\n",
       "      <td>1</td>\n",
       "      <td>NaN</td>\n",
       "      <td>tiller-order</td>\n",
       "      <td>3</td>\n",
       "      <td>60.0</td>\n",
       "      <td>60.0</td>\n",
       "      <td>20.00</td>\n",
       "    </tr>\n",
       "    <tr>\n",
       "      <th>4</th>\n",
       "      <td>55558817</td>\n",
       "      <td>8052</td>\n",
       "      <td>NaN</td>\n",
       "      <td>NaN</td>\n",
       "      <td>NaN</td>\n",
       "      <td>17F0533C-2FF1-4FC5-A50D-12704C7B7A4B</td>\n",
       "      <td>15327.0</td>\n",
       "      <td>2019-01-12 15:25:06 UTC</td>\n",
       "      <td>2019-01-12 19:21:03 UTC</td>\n",
       "      <td>remi et date</td>\n",
       "      <td>CLOSED</td>\n",
       "      <td>1</td>\n",
       "      <td>NaN</td>\n",
       "      <td>Tiller iPAD</td>\n",
       "      <td>2</td>\n",
       "      <td>39.9</td>\n",
       "      <td>39.9</td>\n",
       "      <td>19.95</td>\n",
       "    </tr>\n",
       "  </tbody>\n",
       "</table>\n",
       "</div>"
      ],
      "text/plain": [
       "   id_order  id_store  id_table  id_waiter  id_customer  \\\n",
       "0  55538867      8052       NaN        NaN          NaN   \n",
       "1  56035309      8052       NaN        NaN          NaN   \n",
       "2  55550051      8052       NaN        NaN          NaN   \n",
       "3  57000119      8052       NaN    16199.0          NaN   \n",
       "4  55558817      8052       NaN        NaN          NaN   \n",
       "\n",
       "                            id_external  id_device              date_opened  \\\n",
       "0  0425716B-EFF4-41CA-AEA1-839104F36833    15327.0  2019-01-12 13:02:17 UTC   \n",
       "1  75E41FE2-64FF-41D3-954C-A7DE4AA887EF    15327.0  2019-01-16 19:39:09 UTC   \n",
       "2  F6051A05-C9AC-4033-BF72-BB5149B8F439    15327.0  2019-01-12 14:18:46 UTC   \n",
       "3  B8BEEC66-1C10-48A0-B4D5-035CB5EEFE62    15327.0  2019-01-24 17:49:12 UTC   \n",
       "4  17F0533C-2FF1-4FC5-A50D-12704C7B7A4B    15327.0  2019-01-12 15:25:06 UTC   \n",
       "\n",
       "               date_closed                    dim_name dim_status  dim_type  \\\n",
       "0  2019-01-12 19:58:38 UTC                     vincent     CLOSED         1   \n",
       "1  2019-01-16 22:10:50 UTC  frere et soeur avec pierre     CLOSED         1   \n",
       "2  2019-01-12 19:50:32 UTC                      rachel     CLOSED         1   \n",
       "3  2019-01-24 21:58:59 UTC                  Groupe PEL     CLOSED         1   \n",
       "4  2019-01-12 19:21:03 UTC                remi et date     CLOSED         1   \n",
       "\n",
       "  dim_comment    dim_source  m_nb_customer  m_cached_payed  m_cached_price  \\\n",
       "0         NaN   Tiller iPAD              1            45.5            45.5   \n",
       "1         NaN   Tiller iPAD              2            49.8            49.8   \n",
       "2         NaN   Tiller iPAD              1            27.4            27.4   \n",
       "3         NaN  tiller-order              3            60.0            60.0   \n",
       "4         NaN   Tiller iPAD              2            39.9            39.9   \n",
       "\n",
       "   price_per_customer  \n",
       "0               45.50  \n",
       "1               24.90  \n",
       "2               27.40  \n",
       "3               20.00  \n",
       "4               19.95  "
      ]
     },
     "execution_count": 18,
     "metadata": {},
     "output_type": "execute_result"
    }
   ],
   "source": [
    "df[\"price_per_customer\"] = df[\"m_cached_payed\"] / df[\"m_nb_customer\"]\n",
    "df.head()"
   ]
  },
  {
   "cell_type": "markdown",
   "metadata": {
    "id": "XjjmM3lxCpuJ",
    "lang": "en"
   },
   "source": [
    "n) Using the previous column, calculate the average price spent by each person in each of the restaurants."
   ]
  },
  {
   "cell_type": "code",
   "execution_count": 19,
   "metadata": {
    "id": "FDmNUDEANfKr"
   },
   "outputs": [
    {
     "data": {
      "text/plain": [
       "id_store\n",
       "360           NaN\n",
       "1796          NaN\n",
       "4337          NaN\n",
       "4542    13.816036\n",
       "6293          NaN\n",
       "7965          NaN\n",
       "8052    16.698658\n",
       "8283    36.897418\n",
       "8347    11.500000\n",
       "9084          NaN\n",
       "Name: price_per_customer, dtype: float64"
      ]
     },
     "execution_count": 19,
     "metadata": {},
     "output_type": "execute_result"
    }
   ],
   "source": [
    "df.groupby([\"id_store\"])[\"price_per_customer\"].mean()"
   ]
  },
  {
   "cell_type": "markdown",
   "metadata": {
    "id": "-jeOJ9qECpuJ",
    "lang": "en"
   },
   "source": [
    "o) It seems that there are data problems because for some restaurants the average price is lower ...\n",
    "\n",
    "Do you have any idea why?\n",
    "\n",
    "Replace the values ​​at 0 in the m_nb_customer column with 1 then delete the rows whose m_cached_price column is at 0"
   ]
  },
  {
   "cell_type": "code",
   "execution_count": 20,
   "metadata": {
    "id": "0Abq1T50PQjQ"
   },
   "outputs": [],
   "source": [
    "df.loc[df.m_nb_customer == 0, \"m_nb_customer\"] = 1\n",
    "df = df[df[\"m_cached_payed\"] > 0]"
   ]
  },
  {
   "cell_type": "markdown",
   "metadata": {
    "id": "jk5zujvcCpuJ",
    "lang": "en"
   },
   "source": [
    "p) Recalculate the price_per_customer column and the average price spent by each person in a restaurant"
   ]
  },
  {
   "cell_type": "code",
   "execution_count": 21,
   "metadata": {
    "id": "oLQY0R__OhkA"
   },
   "outputs": [
    {
     "data": {
      "text/plain": [
       "id_store\n",
       "360      32.081429\n",
       "1796     11.832542\n",
       "4337     43.353690\n",
       "4542     13.819953\n",
       "6293     16.806272\n",
       "7965    102.439694\n",
       "8052     16.722518\n",
       "8283     36.901100\n",
       "8347     11.500000\n",
       "9084     30.571901\n",
       "Name: price_per_customer, dtype: float64"
      ]
     },
     "execution_count": 21,
     "metadata": {},
     "output_type": "execute_result"
    }
   ],
   "source": [
    "df[\"price_per_customer\"] = df[\"m_cached_payed\"] / df[\"m_nb_customer\"]\n",
    "\n",
    "df.groupby([\"id_store\"])[\"price_per_customer\"].mean()"
   ]
  },
  {
   "cell_type": "markdown",
   "metadata": {
    "id": "-POZ20_YCpuJ",
    "lang": "en"
   },
   "source": [
    "### Temporal analysis"
   ]
  },
  {
   "cell_type": "markdown",
   "metadata": {
    "id": "KamVv4LNCpuO",
    "lang": "en"
   },
   "source": [
    "Restaurant 7965 has a higher price per person than the rest. Let's look at the time spent at the table to find out if this can correspond to a large restaurant."
   ]
  },
  {
   "cell_type": "markdown",
   "metadata": {
    "id": "PB_OHbmdCpuO",
    "lang": "en"
   },
   "source": [
    "q) Convert date_opened and date_closed columns to datetime format"
   ]
  },
  {
   "cell_type": "code",
   "execution_count": 22,
   "metadata": {},
   "outputs": [
    {
     "data": {
      "text/html": [
       "<div>\n",
       "<style scoped>\n",
       "    .dataframe tbody tr th:only-of-type {\n",
       "        vertical-align: middle;\n",
       "    }\n",
       "\n",
       "    .dataframe tbody tr th {\n",
       "        vertical-align: top;\n",
       "    }\n",
       "\n",
       "    .dataframe thead th {\n",
       "        text-align: right;\n",
       "    }\n",
       "</style>\n",
       "<table border=\"1\" class=\"dataframe\">\n",
       "  <thead>\n",
       "    <tr style=\"text-align: right;\">\n",
       "      <th></th>\n",
       "      <th>id_order</th>\n",
       "      <th>id_store</th>\n",
       "      <th>id_table</th>\n",
       "      <th>id_waiter</th>\n",
       "      <th>id_customer</th>\n",
       "      <th>id_external</th>\n",
       "      <th>id_device</th>\n",
       "      <th>date_opened</th>\n",
       "      <th>date_closed</th>\n",
       "      <th>dim_name</th>\n",
       "      <th>dim_status</th>\n",
       "      <th>dim_type</th>\n",
       "      <th>dim_comment</th>\n",
       "      <th>dim_source</th>\n",
       "      <th>m_nb_customer</th>\n",
       "      <th>m_cached_payed</th>\n",
       "      <th>m_cached_price</th>\n",
       "      <th>price_per_customer</th>\n",
       "    </tr>\n",
       "  </thead>\n",
       "  <tbody>\n",
       "    <tr>\n",
       "      <th>0</th>\n",
       "      <td>55538867</td>\n",
       "      <td>8052</td>\n",
       "      <td>NaN</td>\n",
       "      <td>NaN</td>\n",
       "      <td>NaN</td>\n",
       "      <td>0425716B-EFF4-41CA-AEA1-839104F36833</td>\n",
       "      <td>15327.0</td>\n",
       "      <td>2019-01-12 13:02:17 UTC</td>\n",
       "      <td>2019-01-12 19:58:38 UTC</td>\n",
       "      <td>vincent</td>\n",
       "      <td>CLOSED</td>\n",
       "      <td>1</td>\n",
       "      <td>NaN</td>\n",
       "      <td>Tiller iPAD</td>\n",
       "      <td>1</td>\n",
       "      <td>45.5</td>\n",
       "      <td>45.5</td>\n",
       "      <td>45.50</td>\n",
       "    </tr>\n",
       "    <tr>\n",
       "      <th>1</th>\n",
       "      <td>56035309</td>\n",
       "      <td>8052</td>\n",
       "      <td>NaN</td>\n",
       "      <td>NaN</td>\n",
       "      <td>NaN</td>\n",
       "      <td>75E41FE2-64FF-41D3-954C-A7DE4AA887EF</td>\n",
       "      <td>15327.0</td>\n",
       "      <td>2019-01-16 19:39:09 UTC</td>\n",
       "      <td>2019-01-16 22:10:50 UTC</td>\n",
       "      <td>frere et soeur avec pierre</td>\n",
       "      <td>CLOSED</td>\n",
       "      <td>1</td>\n",
       "      <td>NaN</td>\n",
       "      <td>Tiller iPAD</td>\n",
       "      <td>2</td>\n",
       "      <td>49.8</td>\n",
       "      <td>49.8</td>\n",
       "      <td>24.90</td>\n",
       "    </tr>\n",
       "    <tr>\n",
       "      <th>2</th>\n",
       "      <td>55550051</td>\n",
       "      <td>8052</td>\n",
       "      <td>NaN</td>\n",
       "      <td>NaN</td>\n",
       "      <td>NaN</td>\n",
       "      <td>F6051A05-C9AC-4033-BF72-BB5149B8F439</td>\n",
       "      <td>15327.0</td>\n",
       "      <td>2019-01-12 14:18:46 UTC</td>\n",
       "      <td>2019-01-12 19:50:32 UTC</td>\n",
       "      <td>rachel</td>\n",
       "      <td>CLOSED</td>\n",
       "      <td>1</td>\n",
       "      <td>NaN</td>\n",
       "      <td>Tiller iPAD</td>\n",
       "      <td>1</td>\n",
       "      <td>27.4</td>\n",
       "      <td>27.4</td>\n",
       "      <td>27.40</td>\n",
       "    </tr>\n",
       "    <tr>\n",
       "      <th>3</th>\n",
       "      <td>57000119</td>\n",
       "      <td>8052</td>\n",
       "      <td>NaN</td>\n",
       "      <td>16199.0</td>\n",
       "      <td>NaN</td>\n",
       "      <td>B8BEEC66-1C10-48A0-B4D5-035CB5EEFE62</td>\n",
       "      <td>15327.0</td>\n",
       "      <td>2019-01-24 17:49:12 UTC</td>\n",
       "      <td>2019-01-24 21:58:59 UTC</td>\n",
       "      <td>Groupe PEL</td>\n",
       "      <td>CLOSED</td>\n",
       "      <td>1</td>\n",
       "      <td>NaN</td>\n",
       "      <td>tiller-order</td>\n",
       "      <td>3</td>\n",
       "      <td>60.0</td>\n",
       "      <td>60.0</td>\n",
       "      <td>20.00</td>\n",
       "    </tr>\n",
       "    <tr>\n",
       "      <th>4</th>\n",
       "      <td>55558817</td>\n",
       "      <td>8052</td>\n",
       "      <td>NaN</td>\n",
       "      <td>NaN</td>\n",
       "      <td>NaN</td>\n",
       "      <td>17F0533C-2FF1-4FC5-A50D-12704C7B7A4B</td>\n",
       "      <td>15327.0</td>\n",
       "      <td>2019-01-12 15:25:06 UTC</td>\n",
       "      <td>2019-01-12 19:21:03 UTC</td>\n",
       "      <td>remi et date</td>\n",
       "      <td>CLOSED</td>\n",
       "      <td>1</td>\n",
       "      <td>NaN</td>\n",
       "      <td>Tiller iPAD</td>\n",
       "      <td>2</td>\n",
       "      <td>39.9</td>\n",
       "      <td>39.9</td>\n",
       "      <td>19.95</td>\n",
       "    </tr>\n",
       "  </tbody>\n",
       "</table>\n",
       "</div>"
      ],
      "text/plain": [
       "   id_order  id_store  id_table  id_waiter  id_customer  \\\n",
       "0  55538867      8052       NaN        NaN          NaN   \n",
       "1  56035309      8052       NaN        NaN          NaN   \n",
       "2  55550051      8052       NaN        NaN          NaN   \n",
       "3  57000119      8052       NaN    16199.0          NaN   \n",
       "4  55558817      8052       NaN        NaN          NaN   \n",
       "\n",
       "                            id_external  id_device              date_opened  \\\n",
       "0  0425716B-EFF4-41CA-AEA1-839104F36833    15327.0  2019-01-12 13:02:17 UTC   \n",
       "1  75E41FE2-64FF-41D3-954C-A7DE4AA887EF    15327.0  2019-01-16 19:39:09 UTC   \n",
       "2  F6051A05-C9AC-4033-BF72-BB5149B8F439    15327.0  2019-01-12 14:18:46 UTC   \n",
       "3  B8BEEC66-1C10-48A0-B4D5-035CB5EEFE62    15327.0  2019-01-24 17:49:12 UTC   \n",
       "4  17F0533C-2FF1-4FC5-A50D-12704C7B7A4B    15327.0  2019-01-12 15:25:06 UTC   \n",
       "\n",
       "               date_closed                    dim_name dim_status  dim_type  \\\n",
       "0  2019-01-12 19:58:38 UTC                     vincent     CLOSED         1   \n",
       "1  2019-01-16 22:10:50 UTC  frere et soeur avec pierre     CLOSED         1   \n",
       "2  2019-01-12 19:50:32 UTC                      rachel     CLOSED         1   \n",
       "3  2019-01-24 21:58:59 UTC                  Groupe PEL     CLOSED         1   \n",
       "4  2019-01-12 19:21:03 UTC                remi et date     CLOSED         1   \n",
       "\n",
       "  dim_comment    dim_source  m_nb_customer  m_cached_payed  m_cached_price  \\\n",
       "0         NaN   Tiller iPAD              1            45.5            45.5   \n",
       "1         NaN   Tiller iPAD              2            49.8            49.8   \n",
       "2         NaN   Tiller iPAD              1            27.4            27.4   \n",
       "3         NaN  tiller-order              3            60.0            60.0   \n",
       "4         NaN   Tiller iPAD              2            39.9            39.9   \n",
       "\n",
       "   price_per_customer  \n",
       "0               45.50  \n",
       "1               24.90  \n",
       "2               27.40  \n",
       "3               20.00  \n",
       "4               19.95  "
      ]
     },
     "execution_count": 22,
     "metadata": {},
     "output_type": "execute_result"
    }
   ],
   "source": [
    "df.head()"
   ]
  },
  {
   "cell_type": "code",
   "execution_count": 29,
   "metadata": {},
   "outputs": [
    {
     "data": {
      "text/plain": [
       "id_order                int64\n",
       "id_store                int64\n",
       "id_table              float64\n",
       "id_waiter             float64\n",
       "id_customer           float64\n",
       "id_external            object\n",
       "id_device             float64\n",
       "date_opened            object\n",
       "date_closed            object\n",
       "dim_name               object\n",
       "dim_status             object\n",
       "dim_type                int64\n",
       "dim_comment            object\n",
       "dim_source             object\n",
       "m_nb_customer           int64\n",
       "m_cached_payed        float64\n",
       "m_cached_price        float64\n",
       "price_per_customer    float64\n",
       "dtype: object"
      ]
     },
     "execution_count": 29,
     "metadata": {},
     "output_type": "execute_result"
    }
   ],
   "source": [
    "df.dtypes"
   ]
  },
  {
   "cell_type": "code",
   "execution_count": 30,
   "metadata": {
    "id": "vr_lHtn2SzXW"
   },
   "outputs": [],
   "source": [
    "df['date_closed'] = pd.to_datetime(df['date_closed'])\n",
    "df['date_opened'] = pd.to_datetime(df['date_opened'])"
   ]
  },
  {
   "cell_type": "code",
   "execution_count": 32,
   "metadata": {},
   "outputs": [
    {
     "data": {
      "text/plain": [
       "0         2019\n",
       "1         2019\n",
       "2         2019\n",
       "3         2019\n",
       "4         2019\n",
       "          ... \n",
       "117299    2019\n",
       "117300    2019\n",
       "117301    2019\n",
       "117302    2019\n",
       "117303    2019\n",
       "Name: date_closed, Length: 116572, dtype: int32"
      ]
     },
     "execution_count": 32,
     "metadata": {},
     "output_type": "execute_result"
    }
   ],
   "source": [
    "df.date_closed.dt.year"
   ]
  },
  {
   "cell_type": "code",
   "execution_count": null,
   "metadata": {},
   "outputs": [],
   "source": []
  },
  {
   "cell_type": "code",
   "execution_count": null,
   "metadata": {},
   "outputs": [],
   "source": []
  },
  {
   "cell_type": "markdown",
   "metadata": {
    "id": "GZs8yHCSCpuO",
    "lang": "en"
   },
   "source": [
    "r) Run the code below to calculate the time spent between the open and close date of an order in minutes."
   ]
  },
  {
   "cell_type": "code",
   "execution_count": 34,
   "metadata": {
    "ExecuteTime": {
     "end_time": "2021-12-05T17:34:35.565507Z",
     "start_time": "2021-12-05T17:34:35.558317Z"
    },
    "id": "HUNn5MUnq-xI"
   },
   "outputs": [],
   "source": [
    "df[\"order_duration\"] = (df.date_closed - df.date_opened).dt.total_seconds() / 60\n"
   ]
  },
  {
   "cell_type": "code",
   "execution_count": 35,
   "metadata": {},
   "outputs": [
    {
     "data": {
      "text/html": [
       "<div>\n",
       "<style scoped>\n",
       "    .dataframe tbody tr th:only-of-type {\n",
       "        vertical-align: middle;\n",
       "    }\n",
       "\n",
       "    .dataframe tbody tr th {\n",
       "        vertical-align: top;\n",
       "    }\n",
       "\n",
       "    .dataframe thead th {\n",
       "        text-align: right;\n",
       "    }\n",
       "</style>\n",
       "<table border=\"1\" class=\"dataframe\">\n",
       "  <thead>\n",
       "    <tr style=\"text-align: right;\">\n",
       "      <th></th>\n",
       "      <th>id_order</th>\n",
       "      <th>id_store</th>\n",
       "      <th>id_table</th>\n",
       "      <th>id_waiter</th>\n",
       "      <th>id_customer</th>\n",
       "      <th>id_external</th>\n",
       "      <th>id_device</th>\n",
       "      <th>date_opened</th>\n",
       "      <th>date_closed</th>\n",
       "      <th>dim_name</th>\n",
       "      <th>dim_status</th>\n",
       "      <th>dim_type</th>\n",
       "      <th>dim_comment</th>\n",
       "      <th>dim_source</th>\n",
       "      <th>m_nb_customer</th>\n",
       "      <th>m_cached_payed</th>\n",
       "      <th>m_cached_price</th>\n",
       "      <th>price_per_customer</th>\n",
       "      <th>order_duration</th>\n",
       "    </tr>\n",
       "  </thead>\n",
       "  <tbody>\n",
       "    <tr>\n",
       "      <th>0</th>\n",
       "      <td>55538867</td>\n",
       "      <td>8052</td>\n",
       "      <td>NaN</td>\n",
       "      <td>NaN</td>\n",
       "      <td>NaN</td>\n",
       "      <td>0425716B-EFF4-41CA-AEA1-839104F36833</td>\n",
       "      <td>15327.0</td>\n",
       "      <td>2019-01-12 13:02:17+00:00</td>\n",
       "      <td>2019-01-12 19:58:38+00:00</td>\n",
       "      <td>vincent</td>\n",
       "      <td>CLOSED</td>\n",
       "      <td>1</td>\n",
       "      <td>NaN</td>\n",
       "      <td>Tiller iPAD</td>\n",
       "      <td>1</td>\n",
       "      <td>45.5</td>\n",
       "      <td>45.5</td>\n",
       "      <td>45.50</td>\n",
       "      <td>416.350000</td>\n",
       "    </tr>\n",
       "    <tr>\n",
       "      <th>1</th>\n",
       "      <td>56035309</td>\n",
       "      <td>8052</td>\n",
       "      <td>NaN</td>\n",
       "      <td>NaN</td>\n",
       "      <td>NaN</td>\n",
       "      <td>75E41FE2-64FF-41D3-954C-A7DE4AA887EF</td>\n",
       "      <td>15327.0</td>\n",
       "      <td>2019-01-16 19:39:09+00:00</td>\n",
       "      <td>2019-01-16 22:10:50+00:00</td>\n",
       "      <td>frere et soeur avec pierre</td>\n",
       "      <td>CLOSED</td>\n",
       "      <td>1</td>\n",
       "      <td>NaN</td>\n",
       "      <td>Tiller iPAD</td>\n",
       "      <td>2</td>\n",
       "      <td>49.8</td>\n",
       "      <td>49.8</td>\n",
       "      <td>24.90</td>\n",
       "      <td>151.683333</td>\n",
       "    </tr>\n",
       "    <tr>\n",
       "      <th>2</th>\n",
       "      <td>55550051</td>\n",
       "      <td>8052</td>\n",
       "      <td>NaN</td>\n",
       "      <td>NaN</td>\n",
       "      <td>NaN</td>\n",
       "      <td>F6051A05-C9AC-4033-BF72-BB5149B8F439</td>\n",
       "      <td>15327.0</td>\n",
       "      <td>2019-01-12 14:18:46+00:00</td>\n",
       "      <td>2019-01-12 19:50:32+00:00</td>\n",
       "      <td>rachel</td>\n",
       "      <td>CLOSED</td>\n",
       "      <td>1</td>\n",
       "      <td>NaN</td>\n",
       "      <td>Tiller iPAD</td>\n",
       "      <td>1</td>\n",
       "      <td>27.4</td>\n",
       "      <td>27.4</td>\n",
       "      <td>27.40</td>\n",
       "      <td>331.766667</td>\n",
       "    </tr>\n",
       "    <tr>\n",
       "      <th>3</th>\n",
       "      <td>57000119</td>\n",
       "      <td>8052</td>\n",
       "      <td>NaN</td>\n",
       "      <td>16199.0</td>\n",
       "      <td>NaN</td>\n",
       "      <td>B8BEEC66-1C10-48A0-B4D5-035CB5EEFE62</td>\n",
       "      <td>15327.0</td>\n",
       "      <td>2019-01-24 17:49:12+00:00</td>\n",
       "      <td>2019-01-24 21:58:59+00:00</td>\n",
       "      <td>Groupe PEL</td>\n",
       "      <td>CLOSED</td>\n",
       "      <td>1</td>\n",
       "      <td>NaN</td>\n",
       "      <td>tiller-order</td>\n",
       "      <td>3</td>\n",
       "      <td>60.0</td>\n",
       "      <td>60.0</td>\n",
       "      <td>20.00</td>\n",
       "      <td>249.783333</td>\n",
       "    </tr>\n",
       "    <tr>\n",
       "      <th>4</th>\n",
       "      <td>55558817</td>\n",
       "      <td>8052</td>\n",
       "      <td>NaN</td>\n",
       "      <td>NaN</td>\n",
       "      <td>NaN</td>\n",
       "      <td>17F0533C-2FF1-4FC5-A50D-12704C7B7A4B</td>\n",
       "      <td>15327.0</td>\n",
       "      <td>2019-01-12 15:25:06+00:00</td>\n",
       "      <td>2019-01-12 19:21:03+00:00</td>\n",
       "      <td>remi et date</td>\n",
       "      <td>CLOSED</td>\n",
       "      <td>1</td>\n",
       "      <td>NaN</td>\n",
       "      <td>Tiller iPAD</td>\n",
       "      <td>2</td>\n",
       "      <td>39.9</td>\n",
       "      <td>39.9</td>\n",
       "      <td>19.95</td>\n",
       "      <td>235.950000</td>\n",
       "    </tr>\n",
       "  </tbody>\n",
       "</table>\n",
       "</div>"
      ],
      "text/plain": [
       "   id_order  id_store  id_table  id_waiter  id_customer  \\\n",
       "0  55538867      8052       NaN        NaN          NaN   \n",
       "1  56035309      8052       NaN        NaN          NaN   \n",
       "2  55550051      8052       NaN        NaN          NaN   \n",
       "3  57000119      8052       NaN    16199.0          NaN   \n",
       "4  55558817      8052       NaN        NaN          NaN   \n",
       "\n",
       "                            id_external  id_device               date_opened  \\\n",
       "0  0425716B-EFF4-41CA-AEA1-839104F36833    15327.0 2019-01-12 13:02:17+00:00   \n",
       "1  75E41FE2-64FF-41D3-954C-A7DE4AA887EF    15327.0 2019-01-16 19:39:09+00:00   \n",
       "2  F6051A05-C9AC-4033-BF72-BB5149B8F439    15327.0 2019-01-12 14:18:46+00:00   \n",
       "3  B8BEEC66-1C10-48A0-B4D5-035CB5EEFE62    15327.0 2019-01-24 17:49:12+00:00   \n",
       "4  17F0533C-2FF1-4FC5-A50D-12704C7B7A4B    15327.0 2019-01-12 15:25:06+00:00   \n",
       "\n",
       "                date_closed                    dim_name dim_status  dim_type  \\\n",
       "0 2019-01-12 19:58:38+00:00                     vincent     CLOSED         1   \n",
       "1 2019-01-16 22:10:50+00:00  frere et soeur avec pierre     CLOSED         1   \n",
       "2 2019-01-12 19:50:32+00:00                      rachel     CLOSED         1   \n",
       "3 2019-01-24 21:58:59+00:00                  Groupe PEL     CLOSED         1   \n",
       "4 2019-01-12 19:21:03+00:00                remi et date     CLOSED         1   \n",
       "\n",
       "  dim_comment    dim_source  m_nb_customer  m_cached_payed  m_cached_price  \\\n",
       "0         NaN   Tiller iPAD              1            45.5            45.5   \n",
       "1         NaN   Tiller iPAD              2            49.8            49.8   \n",
       "2         NaN   Tiller iPAD              1            27.4            27.4   \n",
       "3         NaN  tiller-order              3            60.0            60.0   \n",
       "4         NaN   Tiller iPAD              2            39.9            39.9   \n",
       "\n",
       "   price_per_customer  order_duration  \n",
       "0               45.50      416.350000  \n",
       "1               24.90      151.683333  \n",
       "2               27.40      331.766667  \n",
       "3               20.00      249.783333  \n",
       "4               19.95      235.950000  "
      ]
     },
     "execution_count": 35,
     "metadata": {},
     "output_type": "execute_result"
    }
   ],
   "source": [
    "df.head()"
   ]
  },
  {
   "cell_type": "markdown",
   "metadata": {
    "id": "8FNDVMEjCpuP",
    "lang": "en"
   },
   "source": [
    "s) Calculate the average time at the table for each of the restaurants."
   ]
  },
  {
   "cell_type": "code",
   "execution_count": 36,
   "metadata": {
    "ExecuteTime": {
     "end_time": "2021-12-05T17:35:08.547003Z",
     "start_time": "2021-12-05T17:35:08.529944Z"
    },
    "id": "cCj4sDxyq-xJ"
   },
   "outputs": [
    {
     "data": {
      "text/html": [
       "<div>\n",
       "<style scoped>\n",
       "    .dataframe tbody tr th:only-of-type {\n",
       "        vertical-align: middle;\n",
       "    }\n",
       "\n",
       "    .dataframe tbody tr th {\n",
       "        vertical-align: top;\n",
       "    }\n",
       "\n",
       "    .dataframe thead th {\n",
       "        text-align: right;\n",
       "    }\n",
       "</style>\n",
       "<table border=\"1\" class=\"dataframe\">\n",
       "  <thead>\n",
       "    <tr style=\"text-align: right;\">\n",
       "      <th></th>\n",
       "      <th>order_duration</th>\n",
       "    </tr>\n",
       "    <tr>\n",
       "      <th>id_store</th>\n",
       "      <th></th>\n",
       "    </tr>\n",
       "  </thead>\n",
       "  <tbody>\n",
       "    <tr>\n",
       "      <th>360</th>\n",
       "      <td>96.262090</td>\n",
       "    </tr>\n",
       "    <tr>\n",
       "      <th>1796</th>\n",
       "      <td>3.399033</td>\n",
       "    </tr>\n",
       "    <tr>\n",
       "      <th>4337</th>\n",
       "      <td>6.251355</td>\n",
       "    </tr>\n",
       "    <tr>\n",
       "      <th>4542</th>\n",
       "      <td>1.893868</td>\n",
       "    </tr>\n",
       "    <tr>\n",
       "      <th>6293</th>\n",
       "      <td>29.594241</td>\n",
       "    </tr>\n",
       "    <tr>\n",
       "      <th>7965</th>\n",
       "      <td>53.715114</td>\n",
       "    </tr>\n",
       "    <tr>\n",
       "      <th>8052</th>\n",
       "      <td>164.739022</td>\n",
       "    </tr>\n",
       "    <tr>\n",
       "      <th>8283</th>\n",
       "      <td>2.005228</td>\n",
       "    </tr>\n",
       "    <tr>\n",
       "      <th>8347</th>\n",
       "      <td>3.900000</td>\n",
       "    </tr>\n",
       "    <tr>\n",
       "      <th>9084</th>\n",
       "      <td>103.025325</td>\n",
       "    </tr>\n",
       "  </tbody>\n",
       "</table>\n",
       "</div>"
      ],
      "text/plain": [
       "          order_duration\n",
       "id_store                \n",
       "360            96.262090\n",
       "1796            3.399033\n",
       "4337            6.251355\n",
       "4542            1.893868\n",
       "6293           29.594241\n",
       "7965           53.715114\n",
       "8052          164.739022\n",
       "8283            2.005228\n",
       "8347            3.900000\n",
       "9084          103.025325"
      ]
     },
     "execution_count": 36,
     "metadata": {},
     "output_type": "execute_result"
    }
   ],
   "source": [
    "df.groupby('id_store')[['order_duration']].mean()"
   ]
  },
  {
   "cell_type": "markdown",
   "metadata": {
    "id": "Sb-jjDTxCpuP",
    "lang": "en"
   },
   "source": [
    "It seems that there are no fast food type restaurants! Open order durations are relatively short."
   ]
  },
  {
   "cell_type": "markdown",
   "metadata": {
    "id": "wZw8HmyICpuP",
    "lang": "en"
   },
   "source": [
    "### Join operations"
   ]
  },
  {
   "cell_type": "markdown",
   "metadata": {
    "id": "4QOibFuHCpuP",
    "lang": "en"
   },
   "source": [
    "t) Download data from [order_line](https://drive.google.com/file/d/1G7Jbq_m-tJrHRhL-44j8XFOVs_zPil_9/view?usp=sharing) and [store_data](https://drive.google.com/file/d/1W032PaySL7gouyX3bEKgndtm6qVta7Qp/view?usp=sharing). Load them in Python."
   ]
  },
  {
   "cell_type": "code",
   "execution_count": 37,
   "metadata": {
    "ExecuteTime": {
     "end_time": "2021-12-05T16:57:01.438479Z",
     "start_time": "2021-12-05T16:57:00.204091Z"
    },
    "id": "-LeTQt0lq-xG"
   },
   "outputs": [],
   "source": [
    "order_line = pd.read_csv(\"Tiller_order_line.csv\")\n",
    "store_data = pd.read_csv(\"Tiller_store_data.csv\")"
   ]
  },
  {
   "cell_type": "markdown",
   "metadata": {
    "id": "1eIGeS1jCpuP",
    "lang": "en"
   },
   "source": [
    "u) What new information do you have access to thanks to this data?"
   ]
  },
  {
   "cell_type": "code",
   "execution_count": 38,
   "metadata": {
    "ExecuteTime": {
     "end_time": "2021-12-05T16:58:04.620061Z",
     "start_time": "2021-12-05T16:58:04.611443Z"
    },
    "id": "gq4y3luXq-xH",
    "scrolled": false
   },
   "outputs": [
    {
     "data": {
      "text/html": [
       "<div>\n",
       "<style scoped>\n",
       "    .dataframe tbody tr th:only-of-type {\n",
       "        vertical-align: middle;\n",
       "    }\n",
       "\n",
       "    .dataframe tbody tr th {\n",
       "        vertical-align: top;\n",
       "    }\n",
       "\n",
       "    .dataframe thead th {\n",
       "        text-align: right;\n",
       "    }\n",
       "</style>\n",
       "<table border=\"1\" class=\"dataframe\">\n",
       "  <thead>\n",
       "    <tr style=\"text-align: right;\">\n",
       "      <th></th>\n",
       "      <th>id_order_line</th>\n",
       "      <th>id_order</th>\n",
       "      <th>date_opended</th>\n",
       "      <th>date_created</th>\n",
       "      <th>m_quantity</th>\n",
       "      <th>m_unit_price</th>\n",
       "      <th>m_unit_price_exc_vat</th>\n",
       "      <th>m_total_price_inc_vat</th>\n",
       "      <th>m_total_price_exc_vat</th>\n",
       "      <th>m_tax_percent</th>\n",
       "      <th>m_discount_amount</th>\n",
       "      <th>dim_type</th>\n",
       "      <th>dim_category</th>\n",
       "      <th>dim_name</th>\n",
       "      <th>dim_status</th>\n",
       "      <th>m_nb_payed</th>\n",
       "      <th>dim_feature_type</th>\n",
       "      <th>dim_unit_measure</th>\n",
       "      <th>dim_unit_measure_display</th>\n",
       "    </tr>\n",
       "  </thead>\n",
       "  <tbody>\n",
       "    <tr>\n",
       "      <th>0</th>\n",
       "      <td>626609716</td>\n",
       "      <td>139058632</td>\n",
       "      <td>2020-08-25 17:27:14 UTC</td>\n",
       "      <td>2020-08-25 17:27:25 UTC</td>\n",
       "      <td>1.0</td>\n",
       "      <td>15.00</td>\n",
       "      <td>12.500000</td>\n",
       "      <td>15.00</td>\n",
       "      <td>12.500000</td>\n",
       "      <td>0.200</td>\n",
       "      <td>0.0</td>\n",
       "      <td>PRODUCT</td>\n",
       "      <td>VINS ROUGES</td>\n",
       "      <td>TWIST AGAIN 2018 VDF - YOANN ROMAGNE</td>\n",
       "      <td>DONE</td>\n",
       "      <td>0</td>\n",
       "      <td>NaN</td>\n",
       "      <td>UNIT</td>\n",
       "      <td>UNIT</td>\n",
       "    </tr>\n",
       "    <tr>\n",
       "      <th>1</th>\n",
       "      <td>403167240</td>\n",
       "      <td>94770355</td>\n",
       "      <td>2019-09-27 07:47:14 UTC</td>\n",
       "      <td>2019-09-27 07:47:18 UTC</td>\n",
       "      <td>1.0</td>\n",
       "      <td>25.90</td>\n",
       "      <td>21.583333</td>\n",
       "      <td>25.90</td>\n",
       "      <td>21.583333</td>\n",
       "      <td>0.200</td>\n",
       "      <td>0.0</td>\n",
       "      <td>PRODUCT</td>\n",
       "      <td>LIQUIDES 50ML AUTRES</td>\n",
       "      <td>MOMMY CAKE</td>\n",
       "      <td>DONE</td>\n",
       "      <td>0</td>\n",
       "      <td>NaN</td>\n",
       "      <td>UNIT</td>\n",
       "      <td>UNIT</td>\n",
       "    </tr>\n",
       "    <tr>\n",
       "      <th>2</th>\n",
       "      <td>578564178</td>\n",
       "      <td>127794604</td>\n",
       "      <td>2020-06-12 11:07:09 UTC</td>\n",
       "      <td>2020-06-12 11:07:25 UTC</td>\n",
       "      <td>1.0</td>\n",
       "      <td>4.20</td>\n",
       "      <td>3.818182</td>\n",
       "      <td>4.20</td>\n",
       "      <td>3.818182</td>\n",
       "      <td>0.100</td>\n",
       "      <td>0.0</td>\n",
       "      <td>PRODUCT</td>\n",
       "      <td>Déjeuner</td>\n",
       "      <td>FORMULE JUS 30CL</td>\n",
       "      <td>DONE</td>\n",
       "      <td>0</td>\n",
       "      <td>NaN</td>\n",
       "      <td>UNIT</td>\n",
       "      <td>UNIT</td>\n",
       "    </tr>\n",
       "    <tr>\n",
       "      <th>3</th>\n",
       "      <td>329942564</td>\n",
       "      <td>77841193</td>\n",
       "      <td>2019-06-17 13:13:30 UTC</td>\n",
       "      <td>2019-06-17 13:13:43 UTC</td>\n",
       "      <td>1.0</td>\n",
       "      <td>2.20</td>\n",
       "      <td>2.085308</td>\n",
       "      <td>2.20</td>\n",
       "      <td>2.085308</td>\n",
       "      <td>0.055</td>\n",
       "      <td>0.0</td>\n",
       "      <td>PRODUCT</td>\n",
       "      <td>BOISSONS</td>\n",
       "      <td>EVIAN - BADOIT - COCA</td>\n",
       "      <td>DONE</td>\n",
       "      <td>0</td>\n",
       "      <td>NaN</td>\n",
       "      <td>UNIT</td>\n",
       "      <td>UNIT</td>\n",
       "    </tr>\n",
       "    <tr>\n",
       "      <th>4</th>\n",
       "      <td>348375251</td>\n",
       "      <td>82283609</td>\n",
       "      <td>2019-07-12 20:14:51 UTC</td>\n",
       "      <td>2019-07-12 20:15:38 UTC</td>\n",
       "      <td>1.0</td>\n",
       "      <td>-5.16</td>\n",
       "      <td>-5.160000</td>\n",
       "      <td>-5.16</td>\n",
       "      <td>-5.160000</td>\n",
       "      <td>0.000</td>\n",
       "      <td>0.0</td>\n",
       "      <td>DISCOUNT</td>\n",
       "      <td>VARIOUS</td>\n",
       "      <td>DISCOUNT</td>\n",
       "      <td>DONE</td>\n",
       "      <td>0</td>\n",
       "      <td>NaN</td>\n",
       "      <td>NaN</td>\n",
       "      <td>NaN</td>\n",
       "    </tr>\n",
       "  </tbody>\n",
       "</table>\n",
       "</div>"
      ],
      "text/plain": [
       "   id_order_line   id_order             date_opended             date_created  \\\n",
       "0      626609716  139058632  2020-08-25 17:27:14 UTC  2020-08-25 17:27:25 UTC   \n",
       "1      403167240   94770355  2019-09-27 07:47:14 UTC  2019-09-27 07:47:18 UTC   \n",
       "2      578564178  127794604  2020-06-12 11:07:09 UTC  2020-06-12 11:07:25 UTC   \n",
       "3      329942564   77841193  2019-06-17 13:13:30 UTC  2019-06-17 13:13:43 UTC   \n",
       "4      348375251   82283609  2019-07-12 20:14:51 UTC  2019-07-12 20:15:38 UTC   \n",
       "\n",
       "   m_quantity  m_unit_price  m_unit_price_exc_vat  m_total_price_inc_vat  \\\n",
       "0         1.0         15.00             12.500000                  15.00   \n",
       "1         1.0         25.90             21.583333                  25.90   \n",
       "2         1.0          4.20              3.818182                   4.20   \n",
       "3         1.0          2.20              2.085308                   2.20   \n",
       "4         1.0         -5.16             -5.160000                  -5.16   \n",
       "\n",
       "   m_total_price_exc_vat  m_tax_percent  m_discount_amount  dim_type  \\\n",
       "0              12.500000          0.200                0.0   PRODUCT   \n",
       "1              21.583333          0.200                0.0   PRODUCT   \n",
       "2               3.818182          0.100                0.0   PRODUCT   \n",
       "3               2.085308          0.055                0.0   PRODUCT   \n",
       "4              -5.160000          0.000                0.0  DISCOUNT   \n",
       "\n",
       "           dim_category                              dim_name dim_status  \\\n",
       "0           VINS ROUGES  TWIST AGAIN 2018 VDF - YOANN ROMAGNE       DONE   \n",
       "1  LIQUIDES 50ML AUTRES                            MOMMY CAKE       DONE   \n",
       "2              Déjeuner                      FORMULE JUS 30CL       DONE   \n",
       "3              BOISSONS                 EVIAN - BADOIT - COCA       DONE   \n",
       "4               VARIOUS                              DISCOUNT       DONE   \n",
       "\n",
       "   m_nb_payed dim_feature_type dim_unit_measure dim_unit_measure_display  \n",
       "0           0              NaN             UNIT                     UNIT  \n",
       "1           0              NaN             UNIT                     UNIT  \n",
       "2           0              NaN             UNIT                     UNIT  \n",
       "3           0              NaN             UNIT                     UNIT  \n",
       "4           0              NaN              NaN                      NaN  "
      ]
     },
     "execution_count": 38,
     "metadata": {},
     "output_type": "execute_result"
    }
   ],
   "source": [
    "order_line.head()"
   ]
  },
  {
   "cell_type": "code",
   "execution_count": 39,
   "metadata": {},
   "outputs": [
    {
     "data": {
      "text/html": [
       "<div>\n",
       "<style scoped>\n",
       "    .dataframe tbody tr th:only-of-type {\n",
       "        vertical-align: middle;\n",
       "    }\n",
       "\n",
       "    .dataframe tbody tr th {\n",
       "        vertical-align: top;\n",
       "    }\n",
       "\n",
       "    .dataframe thead th {\n",
       "        text-align: right;\n",
       "    }\n",
       "</style>\n",
       "<table border=\"1\" class=\"dataframe\">\n",
       "  <thead>\n",
       "    <tr style=\"text-align: right;\">\n",
       "      <th></th>\n",
       "      <th>id_store</th>\n",
       "      <th>date_created</th>\n",
       "      <th>dim_zipcode</th>\n",
       "      <th>dim_country</th>\n",
       "      <th>dim_currency</th>\n",
       "    </tr>\n",
       "  </thead>\n",
       "  <tbody>\n",
       "    <tr>\n",
       "      <th>0</th>\n",
       "      <td>2576</td>\n",
       "      <td>2016-07-12 16:15:31+00:00</td>\n",
       "      <td>34120</td>\n",
       "      <td>FR</td>\n",
       "      <td>EUR</td>\n",
       "    </tr>\n",
       "    <tr>\n",
       "      <th>1</th>\n",
       "      <td>2538</td>\n",
       "      <td>2016-07-07 16:35:44+00:00</td>\n",
       "      <td>47800</td>\n",
       "      <td>FR</td>\n",
       "      <td>EUR</td>\n",
       "    </tr>\n",
       "    <tr>\n",
       "      <th>2</th>\n",
       "      <td>2468</td>\n",
       "      <td>2016-06-30 12:44:25+00:00</td>\n",
       "      <td>06470</td>\n",
       "      <td>FR</td>\n",
       "      <td>EUR</td>\n",
       "    </tr>\n",
       "    <tr>\n",
       "      <th>3</th>\n",
       "      <td>2375</td>\n",
       "      <td>2016-06-21 12:52:36+00:00</td>\n",
       "      <td>76000</td>\n",
       "      <td>FR</td>\n",
       "      <td>EUR</td>\n",
       "    </tr>\n",
       "    <tr>\n",
       "      <th>4</th>\n",
       "      <td>2328</td>\n",
       "      <td>2016-06-16 13:59:52+00:00</td>\n",
       "      <td>75018</td>\n",
       "      <td>FR</td>\n",
       "      <td>EUR</td>\n",
       "    </tr>\n",
       "  </tbody>\n",
       "</table>\n",
       "</div>"
      ],
      "text/plain": [
       "   id_store               date_created dim_zipcode dim_country dim_currency\n",
       "0      2576  2016-07-12 16:15:31+00:00       34120          FR          EUR\n",
       "1      2538  2016-07-07 16:35:44+00:00       47800          FR          EUR\n",
       "2      2468  2016-06-30 12:44:25+00:00       06470          FR          EUR\n",
       "3      2375  2016-06-21 12:52:36+00:00       76000          FR          EUR\n",
       "4      2328  2016-06-16 13:59:52+00:00       75018          FR          EUR"
      ]
     },
     "execution_count": 39,
     "metadata": {},
     "output_type": "execute_result"
    }
   ],
   "source": [
    "store_data.head()"
   ]
  },
  {
   "cell_type": "markdown",
   "metadata": {
    "id": "GMoPXaqTCpuQ",
    "lang": "en"
   },
   "source": [
    "v) How many orders were placed in the 2nd arrondissement of Paris? It will take merging store_data with the seed data to answer it."
   ]
  },
  {
   "cell_type": "code",
   "execution_count": 40,
   "metadata": {
    "ExecuteTime": {
     "end_time": "2021-12-05T17:01:32.347122Z",
     "start_time": "2021-12-05T17:01:32.204026Z"
    },
    "id": "EQkdLlUMq-xH"
   },
   "outputs": [
    {
     "data": {
      "text/plain": [
       "'75002'"
      ]
     },
     "execution_count": 40,
     "metadata": {},
     "output_type": "execute_result"
    }
   ],
   "source": [
    "\"75002\""
   ]
  },
  {
   "cell_type": "code",
   "execution_count": 41,
   "metadata": {},
   "outputs": [
    {
     "data": {
      "text/plain": [
       "59357"
      ]
     },
     "execution_count": 41,
     "metadata": {},
     "output_type": "execute_result"
    }
   ],
   "source": [
    "df_merged = df.merge(store_data, on='id_store', how='left')\n",
    "df_merged[df_merged['dim_zipcode']=='75002'].id_order.nunique()"
   ]
  },
  {
   "cell_type": "markdown",
   "metadata": {
    "id": "tr62q1pSCpuQ",
    "lang": "en"
   },
   "source": [
    "w) Take restaurant 1796. Its average order time was very short.\n",
    "\n",
    "Show the most ordered items in this restaurant. To do this keep only the id_store and id_order columns of order_data and the id_order, id_order_line and dim_name columns of order_line.\n",
    "\n",
    "Be careful, the dim_name column exists both in order_data and in order_line."
   ]
  },
  {
   "cell_type": "code",
   "execution_count": 43,
   "metadata": {
    "id": "ggr_eaelq-xI"
   },
   "outputs": [
    {
     "name": "stdout",
     "output_type": "stream",
     "text": [
      "        id_store\n",
      "0           8052\n",
      "1           8052\n",
      "2           8052\n",
      "3           8052\n",
      "4           8052\n",
      "...          ...\n",
      "117299      4542\n",
      "117300      4542\n",
      "117301      4542\n",
      "117302      4542\n",
      "117303      4542\n",
      "\n",
      "[116572 rows x 1 columns]\n"
     ]
    }
   ],
   "source": [
    "store = df[['id_store']]\n",
    "print(store)"
   ]
  },
  {
   "cell_type": "code",
   "execution_count": 44,
   "metadata": {},
   "outputs": [
    {
     "data": {
      "text/html": [
       "<div>\n",
       "<style scoped>\n",
       "    .dataframe tbody tr th:only-of-type {\n",
       "        vertical-align: middle;\n",
       "    }\n",
       "\n",
       "    .dataframe tbody tr th {\n",
       "        vertical-align: top;\n",
       "    }\n",
       "\n",
       "    .dataframe thead th {\n",
       "        text-align: right;\n",
       "    }\n",
       "</style>\n",
       "<table border=\"1\" class=\"dataframe\">\n",
       "  <thead>\n",
       "    <tr style=\"text-align: right;\">\n",
       "      <th></th>\n",
       "      <th>id_order</th>\n",
       "    </tr>\n",
       "    <tr>\n",
       "      <th>dim_name</th>\n",
       "      <th></th>\n",
       "    </tr>\n",
       "  </thead>\n",
       "  <tbody>\n",
       "    <tr>\n",
       "      <th>COMPOSITION</th>\n",
       "      <td>10152</td>\n",
       "    </tr>\n",
       "    <tr>\n",
       "      <th>+1€</th>\n",
       "      <td>6244</td>\n",
       "    </tr>\n",
       "    <tr>\n",
       "      <th>FORMULE DESSERT</th>\n",
       "      <td>4091</td>\n",
       "    </tr>\n",
       "    <tr>\n",
       "      <th>FORMULE JUS 30CL</th>\n",
       "      <td>4082</td>\n",
       "    </tr>\n",
       "    <tr>\n",
       "      <th>FORMULE JUS 30CL / SOUPE</th>\n",
       "      <td>2534</td>\n",
       "    </tr>\n",
       "    <tr>\n",
       "      <th>CHICKEN AVOCADO</th>\n",
       "      <td>1553</td>\n",
       "    </tr>\n",
       "    <tr>\n",
       "      <th>POULET CURRY</th>\n",
       "      <td>1492</td>\n",
       "    </tr>\n",
       "    <tr>\n",
       "      <th>SAUMON MI CUIT</th>\n",
       "      <td>1377</td>\n",
       "    </tr>\n",
       "    <tr>\n",
       "      <th>AGNEAU AUX EPICES</th>\n",
       "      <td>1241</td>\n",
       "    </tr>\n",
       "    <tr>\n",
       "      <th>JUS 30CL</th>\n",
       "      <td>1221</td>\n",
       "    </tr>\n",
       "    <tr>\n",
       "      <th>SWEET KISS</th>\n",
       "      <td>1150</td>\n",
       "    </tr>\n",
       "    <tr>\n",
       "      <th>FORMULE 40CL</th>\n",
       "      <td>1035</td>\n",
       "    </tr>\n",
       "    <tr>\n",
       "      <th>MINTY WAY</th>\n",
       "      <td>1026</td>\n",
       "    </tr>\n",
       "    <tr>\n",
       "      <th>BURRATA</th>\n",
       "      <td>1010</td>\n",
       "    </tr>\n",
       "    <tr>\n",
       "      <th>JUS 40CL</th>\n",
       "      <td>1002</td>\n",
       "    </tr>\n",
       "    <tr>\n",
       "      <th>+0,5€</th>\n",
       "      <td>918</td>\n",
       "    </tr>\n",
       "    <tr>\n",
       "      <th>FORMULE DESSERT/BOISSON</th>\n",
       "      <td>838</td>\n",
       "    </tr>\n",
       "    <tr>\n",
       "      <th>+ 1€</th>\n",
       "      <td>801</td>\n",
       "    </tr>\n",
       "    <tr>\n",
       "      <th>MENU 30cL</th>\n",
       "      <td>783</td>\n",
       "    </tr>\n",
       "    <tr>\n",
       "      <th>BOL</th>\n",
       "      <td>736</td>\n",
       "    </tr>\n",
       "    <tr>\n",
       "      <th>AGNEAU MIJOTE</th>\n",
       "      <td>734</td>\n",
       "    </tr>\n",
       "    <tr>\n",
       "      <th>TOFU COCO</th>\n",
       "      <td>729</td>\n",
       "    </tr>\n",
       "    <tr>\n",
       "      <th>KUBRICK</th>\n",
       "      <td>660</td>\n",
       "    </tr>\n",
       "    <tr>\n",
       "      <th>ANTIDOTE</th>\n",
       "      <td>658</td>\n",
       "    </tr>\n",
       "    <tr>\n",
       "      <th>VEGGIBALL</th>\n",
       "      <td>623</td>\n",
       "    </tr>\n",
       "    <tr>\n",
       "      <th>KIWI KALE</th>\n",
       "      <td>609</td>\n",
       "    </tr>\n",
       "    <tr>\n",
       "      <th>POKE SAUMON</th>\n",
       "      <td>577</td>\n",
       "    </tr>\n",
       "    <tr>\n",
       "      <th>CHOP SUEY</th>\n",
       "      <td>573</td>\n",
       "    </tr>\n",
       "    <tr>\n",
       "      <th>EVIAN - BADOIT - COCA</th>\n",
       "      <td>568</td>\n",
       "    </tr>\n",
       "    <tr>\n",
       "      <th>DISCOUNT</th>\n",
       "      <td>493</td>\n",
       "    </tr>\n",
       "  </tbody>\n",
       "</table>\n",
       "</div>"
      ],
      "text/plain": [
       "                          id_order\n",
       "dim_name                          \n",
       "COMPOSITION                  10152\n",
       "+1€                           6244\n",
       "FORMULE DESSERT               4091\n",
       "FORMULE JUS 30CL              4082\n",
       "FORMULE JUS 30CL / SOUPE      2534\n",
       "CHICKEN AVOCADO               1553\n",
       "POULET CURRY                  1492\n",
       "SAUMON MI CUIT                1377\n",
       "AGNEAU AUX EPICES             1241\n",
       "JUS 30CL                      1221\n",
       "SWEET KISS                    1150\n",
       "FORMULE 40CL                  1035\n",
       "MINTY WAY                     1026\n",
       "BURRATA                       1010\n",
       "JUS 40CL                      1002\n",
       "+0,5€                          918\n",
       "FORMULE DESSERT/BOISSON        838\n",
       "+ 1€                           801\n",
       "MENU 30cL                      783\n",
       "BOL                            736\n",
       "AGNEAU MIJOTE                  734\n",
       "TOFU COCO                      729\n",
       "KUBRICK                        660\n",
       "ANTIDOTE                       658\n",
       "VEGGIBALL                      623\n",
       "KIWI KALE                      609\n",
       "POKE SAUMON                    577\n",
       "CHOP SUEY                      573\n",
       "EVIAN - BADOIT - COCA          568\n",
       "DISCOUNT                       493"
      ]
     },
     "execution_count": 44,
     "metadata": {},
     "output_type": "execute_result"
    }
   ],
   "source": [
    "df_merged2 = order_line[['id_order', 'id_order_line', 'dim_name']].merge(df_merged[['id_store', 'id_order']], on='id_order')\n",
    "df_merged2[df_merged2['id_store']==1796].groupby('dim_name')[['id_order']].count().sort_values(by='id_order', ascending=False).head(30)"
   ]
  },
  {
   "cell_type": "markdown",
   "metadata": {
    "id": "t5loptU2CpuQ",
    "lang": "en"
   },
   "source": [
    "Is it a fast lunch restaurant in your opinion?"
   ]
  },
  {
   "cell_type": "markdown",
   "metadata": {
    "id": "0-9z2kpJCpuQ",
    "lang": "en"
   },
   "source": [
    "### Data cleaning"
   ]
  },
  {
   "cell_type": "markdown",
   "metadata": {
    "id": "cQ3pbKwcCpuQ",
    "lang": "en"
   },
   "source": [
    "x) [More difficult] The dim_name column of order_data data is unstructured because it is a free field. We want to clean it by creating a new \"processed_dim_name\" column with:\n",
    "\n",
    "- Any value composed solely of numbers, whether or not preceded by a capital letter (example: B124, A7, 42) will be categorized as \"Code\"\n",
    "- Any value including \"TheFork\" will be categorized as \"TheFork\"\n",
    "- All remaining values ​​will be categorized as \"Person\"\n",
    "- Empty values ​​or character strings containing only spaces will be put empty\n",
    "\n",
    "You can look at the `pd.isna()` function, the regex with the `re` library."
   ]
  },
  {
   "cell_type": "code",
   "execution_count": 46,
   "metadata": {
    "ExecuteTime": {
     "end_time": "2021-12-05T18:02:38.942092Z",
     "start_time": "2021-12-05T18:02:38.812427Z"
    },
    "id": "1bpsik02q-xK"
   },
   "outputs": [],
   "source": [
    "import re\n",
    "import numpy as np\n",
    "\n",
    "processed_dim_name_list = []\n",
    "for name in df.dim_name.values:\n",
    "    processed_dim_name = None\n",
    "    if pd.isna(name):\n",
    "        processed_dim_name = name\n",
    "    elif re.match(\"[A-Z]?\\d+\", name):\n",
    "        processed_dim_name = \"Code\"\n",
    "    elif \"LaFourchette\" in name:\n",
    "        processed_dim_name = \"LaFourchette\"\n",
    "    elif name.rstrip() == \"\":\n",
    "        processed_dim_name = np.nan\n",
    "    else:\n",
    "        processed_dim_name = \"Personne\"\n",
    "    processed_dim_name_list.append(processed_dim_name)\n",
    "\n",
    "df[\"processed_dim_name\"] = processed_dim_name_list"
   ]
  },
  {
   "cell_type": "code",
   "execution_count": 47,
   "metadata": {},
   "outputs": [
    {
     "data": {
      "text/plain": [
       "processed_dim_name\n",
       "Code            53415\n",
       "Personne         2560\n",
       "LaFourchette        2\n",
       "Name: count, dtype: int64"
      ]
     },
     "execution_count": 47,
     "metadata": {},
     "output_type": "execute_result"
    }
   ],
   "source": [
    "df.processed_dim_name.value_counts()"
   ]
  },
  {
   "cell_type": "code",
   "execution_count": 48,
   "metadata": {},
   "outputs": [
    {
     "data": {
      "text/plain": [
       "0         expensive\n",
       "1         expensive\n",
       "2         expensive\n",
       "3         expensive\n",
       "4             cheap\n",
       "            ...    \n",
       "117299    expensive\n",
       "117300    expensive\n",
       "117301    expensive\n",
       "117302    expensive\n",
       "117303        cheap\n",
       "Name: price_per_customer, Length: 116572, dtype: object"
      ]
     },
     "execution_count": 48,
     "metadata": {},
     "output_type": "execute_result"
    }
   ],
   "source": [
    "df.price_per_customer.apply(lambda x: 'cheap' if x < 20.00 else 'expensive')"
   ]
  },
  {
   "cell_type": "code",
   "execution_count": 49,
   "metadata": {},
   "outputs": [
    {
     "data": {
      "text/plain": [
       "0         one\n",
       "1         one\n",
       "2         one\n",
       "3         one\n",
       "4         one\n",
       "         ... \n",
       "117299    one\n",
       "117300    one\n",
       "117301    one\n",
       "117302    one\n",
       "117303    one\n",
       "Name: dim_type, Length: 116572, dtype: object"
      ]
     },
     "execution_count": 49,
     "metadata": {},
     "output_type": "execute_result"
    }
   ],
   "source": [
    "df.dim_type.unique()\n",
    "\n",
    "mapping_dictionary = {\n",
    "    1:'one',\n",
    "    3:'three'\n",
    "}\n",
    "\n",
    "df.dim_type.map(mapping_dictionary)"
   ]
  },
  {
   "cell_type": "code",
   "execution_count": 50,
   "metadata": {},
   "outputs": [
    {
     "data": {
      "text/html": [
       "<div>\n",
       "<style scoped>\n",
       "    .dataframe tbody tr th:only-of-type {\n",
       "        vertical-align: middle;\n",
       "    }\n",
       "\n",
       "    .dataframe tbody tr th {\n",
       "        vertical-align: top;\n",
       "    }\n",
       "\n",
       "    .dataframe thead th {\n",
       "        text-align: right;\n",
       "    }\n",
       "</style>\n",
       "<table border=\"1\" class=\"dataframe\">\n",
       "  <thead>\n",
       "    <tr style=\"text-align: right;\">\n",
       "      <th></th>\n",
       "      <th>m_cached_payed</th>\n",
       "      <th>m_cached_price</th>\n",
       "      <th>price_per_customer</th>\n",
       "    </tr>\n",
       "  </thead>\n",
       "  <tbody>\n",
       "    <tr>\n",
       "      <th>0</th>\n",
       "      <td>46</td>\n",
       "      <td>46</td>\n",
       "      <td>46</td>\n",
       "    </tr>\n",
       "    <tr>\n",
       "      <th>1</th>\n",
       "      <td>50</td>\n",
       "      <td>50</td>\n",
       "      <td>25</td>\n",
       "    </tr>\n",
       "    <tr>\n",
       "      <th>2</th>\n",
       "      <td>27</td>\n",
       "      <td>27</td>\n",
       "      <td>27</td>\n",
       "    </tr>\n",
       "    <tr>\n",
       "      <th>3</th>\n",
       "      <td>60</td>\n",
       "      <td>60</td>\n",
       "      <td>20</td>\n",
       "    </tr>\n",
       "    <tr>\n",
       "      <th>4</th>\n",
       "      <td>40</td>\n",
       "      <td>40</td>\n",
       "      <td>20</td>\n",
       "    </tr>\n",
       "    <tr>\n",
       "      <th>...</th>\n",
       "      <td>...</td>\n",
       "      <td>...</td>\n",
       "      <td>...</td>\n",
       "    </tr>\n",
       "    <tr>\n",
       "      <th>117299</th>\n",
       "      <td>23</td>\n",
       "      <td>23</td>\n",
       "      <td>23</td>\n",
       "    </tr>\n",
       "    <tr>\n",
       "      <th>117300</th>\n",
       "      <td>26</td>\n",
       "      <td>26</td>\n",
       "      <td>26</td>\n",
       "    </tr>\n",
       "    <tr>\n",
       "      <th>117301</th>\n",
       "      <td>29</td>\n",
       "      <td>29</td>\n",
       "      <td>29</td>\n",
       "    </tr>\n",
       "    <tr>\n",
       "      <th>117302</th>\n",
       "      <td>32</td>\n",
       "      <td>32</td>\n",
       "      <td>32</td>\n",
       "    </tr>\n",
       "    <tr>\n",
       "      <th>117303</th>\n",
       "      <td>17</td>\n",
       "      <td>17</td>\n",
       "      <td>17</td>\n",
       "    </tr>\n",
       "  </tbody>\n",
       "</table>\n",
       "<p>116572 rows × 3 columns</p>\n",
       "</div>"
      ],
      "text/plain": [
       "        m_cached_payed  m_cached_price  price_per_customer\n",
       "0                   46              46                  46\n",
       "1                   50              50                  25\n",
       "2                   27              27                  27\n",
       "3                   60              60                  20\n",
       "4                   40              40                  20\n",
       "...                ...             ...                 ...\n",
       "117299              23              23                  23\n",
       "117300              26              26                  26\n",
       "117301              29              29                  29\n",
       "117302              32              32                  32\n",
       "117303              17              17                  17\n",
       "\n",
       "[116572 rows x 3 columns]"
      ]
     },
     "execution_count": 50,
     "metadata": {},
     "output_type": "execute_result"
    }
   ],
   "source": [
    "df[['m_cached_payed', 'm_cached_price', 'price_per_customer']].applymap(round)"
   ]
  },
  {
   "cell_type": "markdown",
   "metadata": {
    "id": "4Hy-ZMA6CpuQ",
    "lang": "en"
   },
   "source": [
    "y) To meet the needs of a team, we want to calculate the number of orders per restaurant and processed_dim_name. Create this dataframe."
   ]
  },
  {
   "cell_type": "code",
   "execution_count": 51,
   "metadata": {
    "id": "InxphLY11JpK"
   },
   "outputs": [
    {
     "data": {
      "text/html": [
       "<div>\n",
       "<style scoped>\n",
       "    .dataframe tbody tr th:only-of-type {\n",
       "        vertical-align: middle;\n",
       "    }\n",
       "\n",
       "    .dataframe tbody tr th {\n",
       "        vertical-align: top;\n",
       "    }\n",
       "\n",
       "    .dataframe thead th {\n",
       "        text-align: right;\n",
       "    }\n",
       "</style>\n",
       "<table border=\"1\" class=\"dataframe\">\n",
       "  <thead>\n",
       "    <tr style=\"text-align: right;\">\n",
       "      <th></th>\n",
       "      <th>id_store</th>\n",
       "      <th>processed_dim_name</th>\n",
       "      <th>id_order</th>\n",
       "    </tr>\n",
       "  </thead>\n",
       "  <tbody>\n",
       "    <tr>\n",
       "      <th>0</th>\n",
       "      <td>360</td>\n",
       "      <td>Code</td>\n",
       "      <td>529</td>\n",
       "    </tr>\n",
       "    <tr>\n",
       "      <th>1</th>\n",
       "      <td>360</td>\n",
       "      <td>LaFourchette</td>\n",
       "      <td>2</td>\n",
       "    </tr>\n",
       "    <tr>\n",
       "      <th>2</th>\n",
       "      <td>360</td>\n",
       "      <td>Personne</td>\n",
       "      <td>2</td>\n",
       "    </tr>\n",
       "    <tr>\n",
       "      <th>3</th>\n",
       "      <td>1796</td>\n",
       "      <td>Code</td>\n",
       "      <td>24518</td>\n",
       "    </tr>\n",
       "    <tr>\n",
       "      <th>4</th>\n",
       "      <td>4337</td>\n",
       "      <td>Personne</td>\n",
       "      <td>145</td>\n",
       "    </tr>\n",
       "    <tr>\n",
       "      <th>5</th>\n",
       "      <td>4542</td>\n",
       "      <td>Code</td>\n",
       "      <td>9145</td>\n",
       "    </tr>\n",
       "    <tr>\n",
       "      <th>6</th>\n",
       "      <td>6293</td>\n",
       "      <td>Code</td>\n",
       "      <td>240</td>\n",
       "    </tr>\n",
       "    <tr>\n",
       "      <th>7</th>\n",
       "      <td>6293</td>\n",
       "      <td>Personne</td>\n",
       "      <td>271</td>\n",
       "    </tr>\n",
       "    <tr>\n",
       "      <th>8</th>\n",
       "      <td>7965</td>\n",
       "      <td>Code</td>\n",
       "      <td>725</td>\n",
       "    </tr>\n",
       "    <tr>\n",
       "      <th>9</th>\n",
       "      <td>7965</td>\n",
       "      <td>Personne</td>\n",
       "      <td>1909</td>\n",
       "    </tr>\n",
       "    <tr>\n",
       "      <th>10</th>\n",
       "      <td>8052</td>\n",
       "      <td>Code</td>\n",
       "      <td>495</td>\n",
       "    </tr>\n",
       "    <tr>\n",
       "      <th>11</th>\n",
       "      <td>8052</td>\n",
       "      <td>Personne</td>\n",
       "      <td>216</td>\n",
       "    </tr>\n",
       "    <tr>\n",
       "      <th>12</th>\n",
       "      <td>8283</td>\n",
       "      <td>Code</td>\n",
       "      <td>10022</td>\n",
       "    </tr>\n",
       "    <tr>\n",
       "      <th>13</th>\n",
       "      <td>9084</td>\n",
       "      <td>Code</td>\n",
       "      <td>7741</td>\n",
       "    </tr>\n",
       "    <tr>\n",
       "      <th>14</th>\n",
       "      <td>9084</td>\n",
       "      <td>Personne</td>\n",
       "      <td>17</td>\n",
       "    </tr>\n",
       "  </tbody>\n",
       "</table>\n",
       "</div>"
      ],
      "text/plain": [
       "    id_store processed_dim_name  id_order\n",
       "0        360               Code       529\n",
       "1        360       LaFourchette         2\n",
       "2        360           Personne         2\n",
       "3       1796               Code     24518\n",
       "4       4337           Personne       145\n",
       "5       4542               Code      9145\n",
       "6       6293               Code       240\n",
       "7       6293           Personne       271\n",
       "8       7965               Code       725\n",
       "9       7965           Personne      1909\n",
       "10      8052               Code       495\n",
       "11      8052           Personne       216\n",
       "12      8283               Code     10022\n",
       "13      9084               Code      7741\n",
       "14      9084           Personne        17"
      ]
     },
     "execution_count": 51,
     "metadata": {},
     "output_type": "execute_result"
    }
   ],
   "source": [
    "df.groupby(['id_store','processed_dim_name'], as_index=False)[['id_order']].count()"
   ]
  },
  {
   "cell_type": "markdown",
   "metadata": {
    "id": "VAiq5dtVCpuR",
    "lang": "en"
   },
   "source": [
    "z) Save the new dataframe in csv. Don't back up your dataframe's index."
   ]
  },
  {
   "cell_type": "code",
   "execution_count": 3,
   "metadata": {
    "ExecuteTime": {
     "end_time": "2021-12-05T18:11:14.960188Z",
     "start_time": "2021-12-05T18:11:13.543484Z"
    },
    "id": "E0n4GoN_q-xL"
   },
   "outputs": [
    {
     "ename": "NameError",
     "evalue": "name 'df' is not defined",
     "output_type": "error",
     "traceback": [
      "\u001b[1;31m---------------------------------------------------------------------------\u001b[0m",
      "\u001b[1;31mNameError\u001b[0m                                 Traceback (most recent call last)",
      "Cell \u001b[1;32mIn[3], line 1\u001b[0m\n\u001b[1;32m----> 1\u001b[0m df\u001b[38;5;241m.\u001b[39mto_csv(\u001b[38;5;124m'\u001b[39m\u001b[38;5;124mprocessed_df.csv\u001b[39m\u001b[38;5;124m'\u001b[39m)\n",
      "\u001b[1;31mNameError\u001b[0m: name 'df' is not defined"
     ]
    }
   ],
   "source": [
    "df.to_csv('processed_df.csv')"
   ]
  },
  {
   "cell_type": "code",
   "execution_count": 4,
   "metadata": {},
   "outputs": [],
   "source": [
    "column = ['Maria', 'Jesus', 'Josepe', 'Clementine', 'Tanja', 'Brigitte', 'Rudi', 'Hans', 'Güther']\n",
    "titled_columns = {'name': column,\n",
    "                  'height': [1.67, 12.9, 4.8, 4.6, 5.9, 9.8, 2.1, 3.7, 4.8],\n",
    "                  'weight': [166.67, 142.9, 49.8, 42.6, 53.9, 90.8, 244.1, 345.7, 45.8]\n",
    "                 }\n"
   ]
  },
  {
   "cell_type": "code",
   "execution_count": 2,
   "metadata": {},
   "outputs": [
    {
     "ename": "NameError",
     "evalue": "name 'pd' is not defined",
     "output_type": "error",
     "traceback": [
      "\u001b[1;31m---------------------------------------------------------------------------\u001b[0m",
      "\u001b[1;31mNameError\u001b[0m                                 Traceback (most recent call last)",
      "Cell \u001b[1;32mIn[2], line 1\u001b[0m\n\u001b[1;32m----> 1\u001b[0m data \u001b[38;5;241m=\u001b[39m pd\u001b[38;5;241m.\u001b[39mDataFrame(titled_columns)\n\u001b[0;32m      2\u001b[0m \u001b[38;5;28mprint\u001b[39m(data)\n",
      "\u001b[1;31mNameError\u001b[0m: name 'pd' is not defined"
     ]
    }
   ],
   "source": [
    "data = pd.DataFrame(titled_columns)\n",
    "print(data)"
   ]
  },
  {
   "cell_type": "code",
   "execution_count": 6,
   "metadata": {},
   "outputs": [
    {
     "ename": "NameError",
     "evalue": "name 'data' is not defined",
     "output_type": "error",
     "traceback": [
      "\u001b[1;31m---------------------------------------------------------------------------\u001b[0m",
      "\u001b[1;31mNameError\u001b[0m                                 Traceback (most recent call last)",
      "Cell \u001b[1;32mIn[6], line 1\u001b[0m\n\u001b[1;32m----> 1\u001b[0m select_column \u001b[38;5;241m=\u001b[39m data[\u001b[38;5;124m'\u001b[39m\u001b[38;5;124mweight\u001b[39m\u001b[38;5;124m'\u001b[39m]\n\u001b[0;32m      2\u001b[0m \u001b[38;5;28mprint\u001b[39m(select_column)\n",
      "\u001b[1;31mNameError\u001b[0m: name 'data' is not defined"
     ]
    }
   ],
   "source": [
    "select_column = data['weight']\n",
    "print(select_column)"
   ]
  },
  {
   "cell_type": "code",
   "execution_count": 132,
   "metadata": {},
   "outputs": [
    {
     "name": "stdout",
     "output_type": "stream",
     "text": [
      "142.9\n"
     ]
    }
   ],
   "source": [
    "select_column = data['weight'][1]\n",
    "print(select_column)"
   ]
  },
  {
   "cell_type": "code",
   "execution_count": 133,
   "metadata": {},
   "outputs": [
    {
     "name": "stdout",
     "output_type": "stream",
     "text": [
      "name      Clementine\n",
      "height           4.6\n",
      "weight          42.6\n",
      "Name: 3, dtype: object\n"
     ]
    }
   ],
   "source": [
    "select_row = data.iloc[3]\n",
    "print(select_row)"
   ]
  },
  {
   "cell_type": "code",
   "execution_count": 134,
   "metadata": {},
   "outputs": [
    {
     "name": "stdout",
     "output_type": "stream",
     "text": [
      "42.6\n"
     ]
    }
   ],
   "source": [
    "select_row = data.iloc[3]['weight']\n",
    "print(select_row)"
   ]
  },
  {
   "cell_type": "code",
   "execution_count": 136,
   "metadata": {},
   "outputs": [],
   "source": [
    "bmi = []"
   ]
  },
  {
   "cell_type": "code",
   "execution_count": 2,
   "metadata": {},
   "outputs": [
    {
     "ename": "NameError",
     "evalue": "name 'data' is not defined",
     "output_type": "error",
     "traceback": [
      "\u001b[1;31m---------------------------------------------------------------------------\u001b[0m",
      "\u001b[1;31mNameError\u001b[0m                                 Traceback (most recent call last)",
      "Cell \u001b[1;32mIn[2], line 1\u001b[0m\n\u001b[1;32m----> 1\u001b[0m \u001b[38;5;28;01mfor\u001b[39;00m i \u001b[38;5;129;01min\u001b[39;00m \u001b[38;5;28mrange\u001b[39m(\u001b[38;5;28mlen\u001b[39m(data)):\n\u001b[0;32m      2\u001b[0m     bmi_score \u001b[38;5;241m=\u001b[39m data[\u001b[38;5;124m'\u001b[39m\u001b[38;5;124mweight\u001b[39m\u001b[38;5;124m'\u001b[39m][i]\u001b[38;5;241m/\u001b[39m(data[\u001b[38;5;124m'\u001b[39m\u001b[38;5;124mheight\u001b[39m\u001b[38;5;124m'\u001b[39m][i]\u001b[38;5;241m*\u001b[39m\u001b[38;5;241m*\u001b[39m\u001b[38;5;241m2\u001b[39m)\n\u001b[0;32m      3\u001b[0m     bmi\u001b[38;5;241m.\u001b[39mappend(bmi_score)\n",
      "\u001b[1;31mNameError\u001b[0m: name 'data' is not defined"
     ]
    }
   ],
   "source": [
    "for i in range(len(data)):\n",
    "    bmi_score = data['weight'][i]/(data['height'][i]**2)\n",
    "    bmi.append(bmi_score)\n",
    "    \n",
    "data['bmi'] = bmi\n",
    "print(data)"
   ]
  },
  {
   "cell_type": "code",
   "execution_count": 1,
   "metadata": {},
   "outputs": [
    {
     "ename": "NameError",
     "evalue": "name 'data' is not defined",
     "output_type": "error",
     "traceback": [
      "\u001b[1;31m---------------------------------------------------------------------------\u001b[0m",
      "\u001b[1;31mNameError\u001b[0m                                 Traceback (most recent call last)",
      "Cell \u001b[1;32mIn[1], line 1\u001b[0m\n\u001b[1;32m----> 1\u001b[0m data\u001b[38;5;241m.\u001b[39mto_csv(\u001b[38;5;124m'\u001b[39m\u001b[38;5;124mbmi.csv\u001b[39m\u001b[38;5;124m'\u001b[39m, index\u001b[38;5;241m=\u001b[39m\u001b[38;5;28;01mFalse\u001b[39;00m, sep\u001b[38;5;241m=\u001b[39m\u001b[38;5;124m'\u001b[39m\u001b[38;5;130;01m\\t\u001b[39;00m\u001b[38;5;124m'\u001b[39m)\n",
      "\u001b[1;31mNameError\u001b[0m: name 'data' is not defined"
     ]
    }
   ],
   "source": [
    "data.to_csv('bmi.csv', index=False, sep='\\t')"
   ]
  },
  {
   "cell_type": "code",
   "execution_count": null,
   "metadata": {},
   "outputs": [],
   "source": []
  },
  {
   "cell_type": "code",
   "execution_count": null,
   "metadata": {},
   "outputs": [],
   "source": []
  },
  {
   "cell_type": "code",
   "execution_count": null,
   "metadata": {},
   "outputs": [],
   "source": []
  },
  {
   "cell_type": "code",
   "execution_count": null,
   "metadata": {},
   "outputs": [],
   "source": []
  },
  {
   "cell_type": "code",
   "execution_count": null,
   "metadata": {},
   "outputs": [],
   "source": []
  },
  {
   "cell_type": "code",
   "execution_count": null,
   "metadata": {},
   "outputs": [],
   "source": []
  }
 ],
 "metadata": {
  "colab": {
   "provenance": []
  },
  "kernelspec": {
   "display_name": "Python 3 (ipykernel)",
   "language": "python",
   "name": "python3"
  },
  "language_info": {
   "codemirror_mode": {
    "name": "ipython",
    "version": 3
   },
   "file_extension": ".py",
   "mimetype": "text/x-python",
   "name": "python",
   "nbconvert_exporter": "python",
   "pygments_lexer": "ipython3",
   "version": "3.11.5"
  },
  "nbTranslate": {
   "displayLangs": [
    "*"
   ],
   "hotkey": "",
   "langInMainMenu": true,
   "sourceLang": "fr",
   "targetLang": "en",
   "useGoogleTranslate": true
  },
  "toc": {
   "base_numbering": 1,
   "nav_menu": {},
   "number_sections": true,
   "sideBar": true,
   "skip_h1_title": false,
   "title_cell": "Table of Contents",
   "title_sidebar": "Contents",
   "toc_cell": false,
   "toc_position": {},
   "toc_section_display": true,
   "toc_window_display": false
  },
  "varInspector": {
   "cols": {
    "lenName": 16,
    "lenType": 16,
    "lenVar": 40
   },
   "kernels_config": {
    "python": {
     "delete_cmd_postfix": "",
     "delete_cmd_prefix": "del ",
     "library": "var_list.py",
     "varRefreshCmd": "print(var_dic_list())"
    },
    "r": {
     "delete_cmd_postfix": ") ",
     "delete_cmd_prefix": "rm(",
     "library": "var_list.r",
     "varRefreshCmd": "cat(var_dic_list()) "
    }
   },
   "types_to_exclude": [
    "module",
    "function",
    "builtin_function_or_method",
    "instance",
    "_Feature"
   ],
   "window_display": false
  }
 },
 "nbformat": 4,
 "nbformat_minor": 1
}
